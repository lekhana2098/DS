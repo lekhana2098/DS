{
 "cells": [
  {
   "cell_type": "markdown",
   "id": "150127a1",
   "metadata": {},
   "source": [
    "## Python Dictionaries: Medical Insurance Project"
   ]
  },
  {
   "cell_type": "markdown",
   "id": "62bb75ef",
   "metadata": {},
   "source": [
    "##### Storing patient names and insurance costs"
   ]
  },
  {
   "cell_type": "markdown",
   "id": "9b9571c7",
   "metadata": {},
   "source": [
    "We would like to keep a record of medical patients and their insurance costs.\n",
    "\n",
    "First, create an empty dictionary called medical_costs."
   ]
  },
  {
   "cell_type": "code",
   "execution_count": 1,
   "id": "db07784c",
   "metadata": {},
   "outputs": [],
   "source": [
    "medical_costs = {}"
   ]
  },
  {
   "cell_type": "markdown",
   "id": "981c90fc",
   "metadata": {},
   "source": [
    "\n",
    "Let’s populate our medical_costs dictionary by adding the following key-value pairs:\n",
    "\n",
    "Add \"Marina\" to medical_costs as a key with a value of 6607.0.\n",
    "Add \"Vinay\" to medical_costs as a key with a value of 3225.0."
   ]
  },
  {
   "cell_type": "code",
   "execution_count": 2,
   "id": "cd46510c",
   "metadata": {},
   "outputs": [],
   "source": [
    "medical_costs[\"Marina\"] = 6607.0\n",
    "medical_costs[\"Vinay\"] = 3225.0"
   ]
  },
  {
   "cell_type": "markdown",
   "id": "2d6e9ac8",
   "metadata": {},
   "source": [
    "\n",
    "Using one line of code, add the following three patients to the medical_costs dictionary:\n",
    "\n",
    "\"Connie\", with an insurance cost of 8886.0\n",
    "\"Isaac\", with an insurance cost of 16444.0\n",
    "\"Valentina\", with an insurance cost of 6420.0\n",
    "\n",
    "Print medical_costs. Make sure the dictionary is what you expected."
   ]
  },
  {
   "cell_type": "code",
   "execution_count": 4,
   "id": "042e5790",
   "metadata": {},
   "outputs": [],
   "source": [
    "medical_costs.update({\"Connie\":8886.0, \"Isaac\":16444.0, \"Valentina\":6420.0})"
   ]
  },
  {
   "cell_type": "code",
   "execution_count": 6,
   "id": "b857c636",
   "metadata": {},
   "outputs": [
    {
     "name": "stdout",
     "output_type": "stream",
     "text": [
      "{'Marina': 6607.0, 'Vinay': 3225.0, 'Connie': 8886.0, 'Isaac': 16444.0, 'Valentina': 6420.0}\n"
     ]
    }
   ],
   "source": [
    "print(medical_costs)"
   ]
  },
  {
   "cell_type": "markdown",
   "id": "b0bd4233",
   "metadata": {},
   "source": [
    "\n",
    "You notice that Vinay’s insurance cost was incorrectly inputted. Update the value associated with Vinay to 3325.0.\n",
    "\n",
    "Print the updated dictionary."
   ]
  },
  {
   "cell_type": "code",
   "execution_count": 9,
   "id": "e8081426",
   "metadata": {},
   "outputs": [],
   "source": [
    "medical_costs[\"Vinay\"] = 3325.0"
   ]
  },
  {
   "cell_type": "code",
   "execution_count": 10,
   "id": "f667b5d4",
   "metadata": {},
   "outputs": [
    {
     "name": "stdout",
     "output_type": "stream",
     "text": [
      "{'Marina': 6607.0, 'Vinay': 3325.0, 'Connie': 8886.0, 'Isaac': 16444.0, 'Valentina': 6420.0}\n"
     ]
    }
   ],
   "source": [
    "print(medical_costs)"
   ]
  },
  {
   "cell_type": "markdown",
   "id": "28c40825",
   "metadata": {},
   "source": [
    "Let’s calculate the average medical cost of each patient. Create a variable called total_cost and set it equal to 0.\n",
    "\n",
    "Next, iterate through the values in medical_costs and add each value to the total_cost variable."
   ]
  },
  {
   "cell_type": "code",
   "execution_count": 12,
   "id": "98dc8ca5",
   "metadata": {},
   "outputs": [],
   "source": [
    "total_cost = 0"
   ]
  },
  {
   "cell_type": "code",
   "execution_count": 17,
   "id": "195efced",
   "metadata": {},
   "outputs": [],
   "source": [
    "for cost in medical_costs.values():\n",
    "    total_cost += cost"
   ]
  },
  {
   "cell_type": "markdown",
   "id": "8012829a",
   "metadata": {},
   "source": [
    "After the loop, create a variable called average_cost that stores the total_cost divided by the length of the medical_costs dictionary.\n",
    "\n",
    "Print average_cost with the following message:\n",
    "\n",
    "Average Insurance Cost: {average_cost}"
   ]
  },
  {
   "cell_type": "code",
   "execution_count": 22,
   "id": "fa580066",
   "metadata": {},
   "outputs": [
    {
     "name": "stdout",
     "output_type": "stream",
     "text": [
      "Average Insurance Cost: 8336.4\n"
     ]
    }
   ],
   "source": [
    "avg_cost = total_cost / len(medical_costs)\n",
    "print(f\"Average Insurance Cost: {avg_cost}\")"
   ]
  },
  {
   "cell_type": "markdown",
   "id": "0c1ec4e8",
   "metadata": {},
   "source": [
    "##### List Comprehension to Dictionary"
   ]
  },
  {
   "cell_type": "markdown",
   "id": "c9aad81a",
   "metadata": {},
   "source": [
    "\n",
    "You have been asked to create a second dictionary that maps patient names to their ages.\n",
    "\n",
    "First, create two lists called names and ages with the following data:\n",
    "\n",
    "**names** **ages**<br>\n",
    "Marina\t    27<br>\n",
    "Vinay\t    24<br>\n",
    "Connie\t    43<br>\n",
    "Isaac\t    35<br>\n",
    "Valentina\t52\n"
   ]
  },
  {
   "cell_type": "code",
   "execution_count": 24,
   "id": "6fd13ed7",
   "metadata": {},
   "outputs": [],
   "source": [
    "names = [\"Marina\", \"Vinay\", \"Connie\", \"Isaac\", \"Valentina\"]\n",
    "ages = [27, 24, 43, 35, 52]"
   ]
  },
  {
   "cell_type": "markdown",
   "id": "dcf5f1aa",
   "metadata": {},
   "source": [
    "\n",
    "Next, create a variable called zipped_ages that is a zipped list of pairs between the names list and the ages list."
   ]
  },
  {
   "cell_type": "code",
   "execution_count": 46,
   "id": "196a33db",
   "metadata": {},
   "outputs": [],
   "source": [
    "zipped_ages = zip(names, ages)"
   ]
  },
  {
   "cell_type": "markdown",
   "id": "38927e7c",
   "metadata": {},
   "source": [
    "Create a dictionary called names_to_ages by using a list comprehension that iterates through zipped_ages and turns each pair into a key : value item.\n",
    "\n",
    "Print names_to_ages to see the result"
   ]
  },
  {
   "cell_type": "code",
   "execution_count": 47,
   "id": "9770b2eb",
   "metadata": {},
   "outputs": [],
   "source": [
    "names_to_ages = {key: value for key, value in zipped_ages}"
   ]
  },
  {
   "cell_type": "code",
   "execution_count": 48,
   "id": "74537a23",
   "metadata": {
    "scrolled": true
   },
   "outputs": [
    {
     "name": "stdout",
     "output_type": "stream",
     "text": [
      "{'Marina': 27, 'Vinay': 24, 'Connie': 43, 'Isaac': 35, 'Valentina': 52}\n"
     ]
    }
   ],
   "source": [
    "print(names_to_ages)"
   ]
  },
  {
   "cell_type": "markdown",
   "id": "41cb4577",
   "metadata": {},
   "source": [
    "\n",
    "Use .get() to get the value of Marina’s age and store it in a variable called marina_age. Use None as a default value if the key doesn’t exist.\n",
    "\n",
    "Print marina_age with the following message:\n",
    "\n",
    "Marina's age is {marina_age}"
   ]
  },
  {
   "cell_type": "code",
   "execution_count": 54,
   "id": "06fb3182",
   "metadata": {},
   "outputs": [
    {
     "name": "stdout",
     "output_type": "stream",
     "text": [
      "Marina's age is 27\n"
     ]
    }
   ],
   "source": [
    "marina_age = names_to_ages.get(\"Marina\")\n",
    "print(f\"Marina's age is {marina_age}\")"
   ]
  },
  {
   "cell_type": "markdown",
   "id": "3c3590f4",
   "metadata": {},
   "source": [
    "##### Using a Dictionary to create a medical database"
   ]
  },
  {
   "cell_type": "markdown",
   "id": "1c35533c",
   "metadata": {},
   "source": [
    "\n",
    "Let’s create a third dictionary to represent a database of medical records that contains information such as a patient’s name, age, sex, gender, BMI, number of children, smoker status, and insurance cost.\n",
    "\n",
    "First, create an empty dictionary called medical_records."
   ]
  },
  {
   "cell_type": "code",
   "execution_count": 74,
   "id": "79ae56be",
   "metadata": {},
   "outputs": [],
   "source": [
    "medical_records = {}"
   ]
  },
  {
   "cell_type": "markdown",
   "id": "73a7b199",
   "metadata": {},
   "source": [
    "Next, add \"Marina\" to medical_records as a key with the value being a dictionary of medical data:\n",
    "\n",
    "{\"Age\": 27, \"Sex\": \"Female\", \"BMI\": 31.1, \"Children\": 2, \"Smoker\": \"Non-smoker\", \"Insurance_cost\": 6607.0}"
   ]
  },
  {
   "cell_type": "code",
   "execution_count": 83,
   "id": "4378cd4b",
   "metadata": {},
   "outputs": [],
   "source": [
    "medical_records[\"Marina\"] = {\"Age\":27, \"Sex\":\"Female\", \"BMI\":31.1, \"Children\":2, \"Smoker\":\"Non-smoker\", \"Insurance Cost\":6607.0}"
   ]
  },
  {
   "cell_type": "markdown",
   "id": "b9c07275",
   "metadata": {},
   "source": [
    "Do the same for the following individuals:\n",
    "\n",
    "Name\t    - Age\t    - Sex\t    - BMI\t  - Children\t- Smoker\t      - Insurance Cost<br>\n",
    "Vinay\t    - 24\t    - Male\t    - 26.9\t  - 0\t        - Non-smoker\t  - 3225.0<br>\n",
    "Connie      - 43\t    - Female\t- 25.3    - 3\t        - Non-smoker\t  - 8886.0<br>\n",
    "Isaac\t    - 35\t    - Male\t    - 20.6\t  - 4\t        - Smoker\t      - 16444.0<br>\n",
    "Valentina\t- 52\t    - Female\t- 18.7\t  - 1\t        - Non-smoker\t  - 6420.0<br>"
   ]
  },
  {
   "cell_type": "code",
   "execution_count": 84,
   "id": "93f23357",
   "metadata": {},
   "outputs": [],
   "source": [
    "medical_records[\"Vinay\"] = {\"Age\":24, \"Sex\":\"Male\", \"BMI\":26.9, \"Children\":0, \"Smoker\":\"Non-smoker\", \"Insurance Cost\":3225.0}\n",
    "medical_records[\"Connie\"] = {\"Age\":43, \"Sex\":\"Female\", \"BMI\":25.3, \"Children\":3, \"Smoker\":\"Non-smoker\", \"Insurance Cost\":8886.0}\n",
    "medical_records[\"Isaac\"] = {\"Age\":35, \"Sex\":\"Male\", \"BMI\":20.6, \"Children\":4, \"Smoker\":\"Smoker\", \"Insurance Cost\":16444.0}\n",
    "medical_records[\"Valentina\"] = {\"Age\":52, \"Sex\":\"Female\", \"BMI\":18.7, \"Children\":1, \"Smoker\":\"Non-smoker\", \"Insurance Cost\":6420.0}"
   ]
  },
  {
   "cell_type": "markdown",
   "id": "b31e7b6f",
   "metadata": {},
   "source": [
    "\n",
    "Print medical_records to see the result."
   ]
  },
  {
   "cell_type": "code",
   "execution_count": 77,
   "id": "7dc3d8e0",
   "metadata": {},
   "outputs": [
    {
     "name": "stdout",
     "output_type": "stream",
     "text": [
      "{'Marina': {'Age': 27, 'Sex': 'Female', 'BMI': 31.1, 'Children': 2, 'Smoker': 'Non-smoker', 'Insurance Cost': 6607.0}, 'Vinay': {'Age': 24, 'Sex': 'Male', 'BMI': 26.9, 'Children': 0, 'Smoker': 'Non-smoker', 'Insurance Cost': 3225.0}, 'Connie': {'Age': 43, 'Sex': 'Female', 'BMI': 25.3, 'Children': 3, 'Smoker': 'Non-smoker', 'Insurance Cost': 8886.0}, 'Isaac': {'Age': 35, 'Sex': 'Male', 'BMI': 20.6, 'Children': 4, 'Smoker': 'Smoker', 'Insurance Cost': 16444.0}, 'Valentina': {'Age': 52, 'Sex': 'Female', 'BMI': 18.7, 'Children': 1, 'Smoker': 'Non-smoker', 'Insurance Cost': 6420.0}}\n"
     ]
    }
   ],
   "source": [
    "print(medical_records)"
   ]
  },
  {
   "cell_type": "code",
   "execution_count": 68,
   "id": "8175e683",
   "metadata": {},
   "outputs": [
    {
     "data": {
      "text/plain": [
       "8886.0"
      ]
     },
     "execution_count": 68,
     "metadata": {},
     "output_type": "execute_result"
    }
   ],
   "source": [
    "medical_records[\"Connie\"][\"Insurance Cost\"]"
   ]
  },
  {
   "cell_type": "code",
   "execution_count": 71,
   "id": "a1169061",
   "metadata": {},
   "outputs": [
    {
     "name": "stdout",
     "output_type": "stream",
     "text": [
      "Connie's insurance cost is 8886.0 dollars.\n"
     ]
    }
   ],
   "source": [
    "print(\"Connie's insurance cost is {} dollars.\".format(medical_records[\"Connie\"][\"Insurance Cost\"]))"
   ]
  },
  {
   "cell_type": "markdown",
   "id": "635cfa63",
   "metadata": {},
   "source": [
    "\n",
    "Vinay has moved to a new country and we no longer want to include him in our medical records.\n",
    "\n",
    "Remove Vinay from medical_records."
   ]
  },
  {
   "cell_type": "code",
   "execution_count": 85,
   "id": "28526f03",
   "metadata": {},
   "outputs": [
    {
     "data": {
      "text/plain": [
       "{'Age': 24,\n",
       " 'Sex': 'Male',\n",
       " 'BMI': 26.9,\n",
       " 'Children': 0,\n",
       " 'Smoker': 'Non-smoker',\n",
       " 'Insurance Cost': 3225.0}"
      ]
     },
     "execution_count": 85,
     "metadata": {},
     "output_type": "execute_result"
    }
   ],
   "source": [
    "medical_records.pop(\"Vinay\")"
   ]
  },
  {
   "cell_type": "code",
   "execution_count": 86,
   "id": "f3509d1b",
   "metadata": {},
   "outputs": [
    {
     "name": "stdout",
     "output_type": "stream",
     "text": [
      "{'Marina': {'Age': 27, 'Sex': 'Female', 'BMI': 31.1, 'Children': 2, 'Smoker': 'Non-smoker', 'Insurance Cost': 6607.0}, 'Connie': {'Age': 43, 'Sex': 'Female', 'BMI': 25.3, 'Children': 3, 'Smoker': 'Non-smoker', 'Insurance Cost': 8886.0}, 'Isaac': {'Age': 35, 'Sex': 'Male', 'BMI': 20.6, 'Children': 4, 'Smoker': 'Smoker', 'Insurance Cost': 16444.0}, 'Valentina': {'Age': 52, 'Sex': 'Female', 'BMI': 18.7, 'Children': 1, 'Smoker': 'Non-smoker', 'Insurance Cost': 6420.0}}\n"
     ]
    }
   ],
   "source": [
    "print(medical_records)"
   ]
  },
  {
   "cell_type": "markdown",
   "id": "36aa030b",
   "metadata": {},
   "source": [
    "Let’s take a closer look at each patient’s medical record.\n",
    "\n",
    "Use a for loop to iterate through the items of medical_records. For each key-value pair, print out a string that looks like the following:\n",
    "\n",
    "{Name} is a {Age} year old {Sex} {Smoker} with a BMI of {BMI} and insurance cost of {Insurance_cost}"
   ]
  },
  {
   "cell_type": "code",
   "execution_count": 88,
   "id": "6b33bbfb",
   "metadata": {},
   "outputs": [
    {
     "name": "stdout",
     "output_type": "stream",
     "text": [
      "Marina is a 27 year old Female Non-smoker with a BMI of 31.1 and insurance cost of 6607.0\n",
      "Connie is a 43 year old Female Non-smoker with a BMI of 25.3 and insurance cost of 8886.0\n",
      "Isaac is a 35 year old Male Smoker with a BMI of 20.6 and insurance cost of 16444.0\n",
      "Valentina is a 52 year old Female Non-smoker with a BMI of 18.7 and insurance cost of 6420.0\n"
     ]
    }
   ],
   "source": [
    "for record in medical_records:\n",
    "    print(\"{} is a {} year old {} {} with a BMI of {} and insurance cost of {}\"\\\n",
    "         .format(record, medical_records[record][\"Age\"], medical_records[record][\"Sex\"], medical_records[record][\"Smoker\"],\\\n",
    "                medical_records[record][\"BMI\"], medical_records[record][\"Insurance Cost\"]))"
   ]
  }
 ],
 "metadata": {
  "kernelspec": {
   "display_name": "Python 3 (ipykernel)",
   "language": "python",
   "name": "python3"
  },
  "language_info": {
   "codemirror_mode": {
    "name": "ipython",
    "version": 3
   },
   "file_extension": ".py",
   "mimetype": "text/x-python",
   "name": "python",
   "nbconvert_exporter": "python",
   "pygments_lexer": "ipython3",
   "version": "3.9.12"
  }
 },
 "nbformat": 4,
 "nbformat_minor": 5
}
