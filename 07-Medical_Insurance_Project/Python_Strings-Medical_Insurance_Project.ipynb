{
 "cells": [
  {
   "cell_type": "markdown",
   "id": "d4992192",
   "metadata": {},
   "source": [
    "### Python Strings: Medical Insurance Project"
   ]
  },
  {
   "cell_type": "markdown",
   "id": "90236d15",
   "metadata": {},
   "source": [
    "The string medical_data stores the medical records for ten individuals. Each record is separated by a ; and contains the name, age, BMI (body mass index), and insurance cost for an individual, in that order."
   ]
  },
  {
   "cell_type": "code",
   "execution_count": 100,
   "id": "9b473550",
   "metadata": {},
   "outputs": [],
   "source": [
    "medical_data = \"Marina Allison   ,27   ,   31.1 , #7010.0   ;Markus Valdez   ,   30, 22.4,   #4050.0 ;Connie Ballard ,43 , \\\n",
    "25.3 , #12060.0 ;Darnell Weber   ,   35   , 20.6   , #7500.0;Sylvie Charles   ,22, 22.1 ,#3022.0   ;   Vinay Padilla,24,  \\\n",
    "26.9 ,#4620.0 ;Meredith Santiago, 51   , 29.3 ,#16330.0;   Andre Mccarty, 19,22.7 , #2900.0 ; Lorena Hodson ,65, 33.1 ,\\\n",
    "#19370.0; Isaac Vu ,34, 24.8,   #7045.0\""
   ]
  },
  {
   "cell_type": "markdown",
   "id": "9ec974d6",
   "metadata": {},
   "source": [
    "##### 1. Working with Strings"
   ]
  },
  {
   "cell_type": "markdown",
   "id": "bbeed50a",
   "metadata": {},
   "source": [
    "##### 1.1\n",
    "We want the insurance costs to be represented in US dollars.\n",
    "\n",
    "1. Replace all instances of # in `medical_data` with $. Store the result in a variable called `updated_medical_data`.\n",
    "\n",
    "2. Print `updated_medical_data`."
   ]
  },
  {
   "cell_type": "code",
   "execution_count": 101,
   "id": "684dedad",
   "metadata": {},
   "outputs": [
    {
     "data": {
      "text/plain": [
       "'Marina Allison   ,27   ,   31.1 , $7010.0   ;Markus Valdez   ,   30, 22.4,   $4050.0 ;Connie Ballard ,43 , 25.3 , $12060.0 ;Darnell Weber   ,   35   , 20.6   , $7500.0;Sylvie Charles   ,22, 22.1 ,$3022.0   ;   Vinay Padilla,24,  26.9 ,$4620.0 ;Meredith Santiago, 51   , 29.3 ,$16330.0;   Andre Mccarty, 19,22.7 , $2900.0 ; Lorena Hodson ,65, 33.1 ,$19370.0; Isaac Vu ,34, 24.8,   $7045.0'"
      ]
     },
     "execution_count": 101,
     "metadata": {},
     "output_type": "execute_result"
    }
   ],
   "source": [
    "updated_medical_data = medical_data.replace(\"#\", \"$\")\n",
    "updated_medical_data"
   ]
  },
  {
   "cell_type": "markdown",
   "id": "bb83ddc1",
   "metadata": {},
   "source": [
    "##### 1.2"
   ]
  },
  {
   "cell_type": "markdown",
   "id": "6a62dc24",
   "metadata": {},
   "source": [
    "We want to calculate the number of medical records in our data.\n",
    "\n",
    "1. Create a variable called `num_records` and initialize it at 0.\n",
    "\n",
    "2. Next, write a for loop to iterate through the `updated_medical_data` string. Inside of the loop, add 1 to num_records when the current character is equal to $.\n",
    "\n",
    "3. Outside of the loop, print `num_records` with the following message:\n",
    "    - There are {num_records} medical records in the data."
   ]
  },
  {
   "cell_type": "code",
   "execution_count": 102,
   "id": "f5d0d1c0",
   "metadata": {},
   "outputs": [
    {
     "name": "stdout",
     "output_type": "stream",
     "text": [
      "There are 10 medical records in the data.\n"
     ]
    }
   ],
   "source": [
    "num_records = 0\n",
    "for i in updated_medical_data:\n",
    "    if i == \"$\":\n",
    "        num_records += 1\n",
    "print(f\"There are {num_records} medical records in the data.\")"
   ]
  },
  {
   "cell_type": "markdown",
   "id": "ba2619e6",
   "metadata": {},
   "source": [
    "##### 2. Splitting Strings"
   ]
  },
  {
   "cell_type": "markdown",
   "id": "bccad573",
   "metadata": {},
   "source": [
    "##### 2.1"
   ]
  },
  {
   "cell_type": "markdown",
   "id": "1f4e4cdb",
   "metadata": {},
   "source": [
    "The medical data in its current form is difficult to analyze. An essential job for a data scientist is to clean up data so that it’s easy to work with.\n",
    "\n",
    "Let’s start off by splitting the `updated_medical_data` string into a list of each medical record. Remember that each medical record is separated by a ; in the string.\n",
    "\n",
    "Store the result in a variable called `medical_data_split` and print this variable."
   ]
  },
  {
   "cell_type": "code",
   "execution_count": 103,
   "id": "ebf5b6fe",
   "metadata": {},
   "outputs": [
    {
     "data": {
      "text/plain": [
       "['Marina Allison   ,27   ,   31.1 , $7010.0   ',\n",
       " 'Markus Valdez   ,   30, 22.4,   $4050.0 ',\n",
       " 'Connie Ballard ,43 , 25.3 , $12060.0 ',\n",
       " 'Darnell Weber   ,   35   , 20.6   , $7500.0',\n",
       " 'Sylvie Charles   ,22, 22.1 ,$3022.0   ',\n",
       " '   Vinay Padilla,24,  26.9 ,$4620.0 ',\n",
       " 'Meredith Santiago, 51   , 29.3 ,$16330.0',\n",
       " '   Andre Mccarty, 19,22.7 , $2900.0 ',\n",
       " ' Lorena Hodson ,65, 33.1 ,$19370.0',\n",
       " ' Isaac Vu ,34, 24.8,   $7045.0']"
      ]
     },
     "execution_count": 103,
     "metadata": {},
     "output_type": "execute_result"
    }
   ],
   "source": [
    "medical_data_split = updated_medical_data.split(\";\")\n",
    "medical_data_split"
   ]
  },
  {
   "cell_type": "markdown",
   "id": "bcb9f92c",
   "metadata": {},
   "source": [
    "##### 2.2"
   ]
  },
  {
   "cell_type": "markdown",
   "id": "23c27801",
   "metadata": {},
   "source": [
    "\n",
    "Our data is now stored in a list, but it is still hard to read. Let’s split each medical record into its own list.\n",
    "\n",
    "First, define an empty list called `medical_records`."
   ]
  },
  {
   "cell_type": "code",
   "execution_count": 104,
   "id": "e9ade2f7",
   "metadata": {},
   "outputs": [],
   "source": [
    "medical_records = []"
   ]
  },
  {
   "cell_type": "markdown",
   "id": "60355eeb",
   "metadata": {},
   "source": [
    "##### 2.3"
   ]
  },
  {
   "cell_type": "markdown",
   "id": "95688056",
   "metadata": {},
   "source": [
    "\n",
    "Next, iterate through `medical_data_split` and for each record, split the string after each comma (,) and append the split string to `medical_records`.\n",
    "\n",
    "Print `medical_records` after the loop."
   ]
  },
  {
   "cell_type": "code",
   "execution_count": 105,
   "id": "509192f2",
   "metadata": {},
   "outputs": [],
   "source": [
    "for i in medical_data_split:\n",
    "    medical_records.append(i.split(\",\"))"
   ]
  },
  {
   "cell_type": "code",
   "execution_count": 106,
   "id": "cd2c55b1",
   "metadata": {},
   "outputs": [
    {
     "data": {
      "text/plain": [
       "[['Marina Allison   ', '27   ', '   31.1 ', ' $7010.0   '],\n",
       " ['Markus Valdez   ', '   30', ' 22.4', '   $4050.0 '],\n",
       " ['Connie Ballard ', '43 ', ' 25.3 ', ' $12060.0 '],\n",
       " ['Darnell Weber   ', '   35   ', ' 20.6   ', ' $7500.0'],\n",
       " ['Sylvie Charles   ', '22', ' 22.1 ', '$3022.0   '],\n",
       " ['   Vinay Padilla', '24', '  26.9 ', '$4620.0 '],\n",
       " ['Meredith Santiago', ' 51   ', ' 29.3 ', '$16330.0'],\n",
       " ['   Andre Mccarty', ' 19', '22.7 ', ' $2900.0 '],\n",
       " [' Lorena Hodson ', '65', ' 33.1 ', '$19370.0'],\n",
       " [' Isaac Vu ', '34', ' 24.8', '   $7045.0']]"
      ]
     },
     "execution_count": 106,
     "metadata": {},
     "output_type": "execute_result"
    }
   ],
   "source": [
    "medical_records"
   ]
  },
  {
   "cell_type": "markdown",
   "id": "8a5de668",
   "metadata": {},
   "source": [
    "##### 3. Cleaning Data"
   ]
  },
  {
   "cell_type": "markdown",
   "id": "b4cb45b5",
   "metadata": {},
   "source": [
    "##### 3.1"
   ]
  },
  {
   "cell_type": "markdown",
   "id": "0953e0cd",
   "metadata": {},
   "source": [
    "Our data is now slightly more readable. However, it is not properly formatted – it contains unnecessary whitespace.\n",
    "\n",
    "To fix this, let’s start by creating an empty list called `medical_records_clean`."
   ]
  },
  {
   "cell_type": "code",
   "execution_count": 107,
   "id": "60ddde10",
   "metadata": {},
   "outputs": [],
   "source": [
    "medical_records_clean = []"
   ]
  },
  {
   "cell_type": "markdown",
   "id": "748af9b8",
   "metadata": {},
   "source": [
    "##### 3.2"
   ]
  },
  {
   "cell_type": "markdown",
   "id": "67f10eea",
   "metadata": {},
   "source": [
    "\n",
    "Next, use a for loop to iterate through `medical_records`.\n",
    "\n",
    "1. Inside of the loop, create an empty list called `record_clean`. We’ll use this list to store a formatted version of each medical record.\n",
    "2. After the `record_clean` variable, create a nested for loop that goes through each record : Inside of this loop, append `item.strip()` to `record_clean` to remove any whitespace from the string.\n",
    "3. Finally, we need to add each cleaned up record to `medical_records_clean`. Outside of the nested for loop, append `record_clean` to `medical_records_clean`.\n",
    "4. Print `medical_records_clean` outside of the for loops to see the output. You should see output that is formatted and much easier to read."
   ]
  },
  {
   "cell_type": "code",
   "execution_count": 108,
   "id": "4bc3868b",
   "metadata": {},
   "outputs": [
    {
     "data": {
      "text/plain": [
       "[['Marina Allison   ', '27   ', '   31.1 ', ' $7010.0   '],\n",
       " ['Markus Valdez   ', '   30', ' 22.4', '   $4050.0 '],\n",
       " ['Connie Ballard ', '43 ', ' 25.3 ', ' $12060.0 '],\n",
       " ['Darnell Weber   ', '   35   ', ' 20.6   ', ' $7500.0'],\n",
       " ['Sylvie Charles   ', '22', ' 22.1 ', '$3022.0   '],\n",
       " ['   Vinay Padilla', '24', '  26.9 ', '$4620.0 '],\n",
       " ['Meredith Santiago', ' 51   ', ' 29.3 ', '$16330.0'],\n",
       " ['   Andre Mccarty', ' 19', '22.7 ', ' $2900.0 '],\n",
       " [' Lorena Hodson ', '65', ' 33.1 ', '$19370.0'],\n",
       " [' Isaac Vu ', '34', ' 24.8', '   $7045.0']]"
      ]
     },
     "execution_count": 108,
     "metadata": {},
     "output_type": "execute_result"
    }
   ],
   "source": [
    "medical_records"
   ]
  },
  {
   "cell_type": "code",
   "execution_count": 109,
   "id": "b3dcb430",
   "metadata": {},
   "outputs": [],
   "source": [
    "for record in medical_records:\n",
    "    record_clean = []\n",
    "    for item in record:\n",
    "        record_clean.append(item.strip())\n",
    "    medical_records_clean.append(record_clean)"
   ]
  },
  {
   "cell_type": "code",
   "execution_count": 110,
   "id": "f76d5e8c",
   "metadata": {},
   "outputs": [
    {
     "data": {
      "text/plain": [
       "[['Marina Allison', '27', '31.1', '$7010.0'],\n",
       " ['Markus Valdez', '30', '22.4', '$4050.0'],\n",
       " ['Connie Ballard', '43', '25.3', '$12060.0'],\n",
       " ['Darnell Weber', '35', '20.6', '$7500.0'],\n",
       " ['Sylvie Charles', '22', '22.1', '$3022.0'],\n",
       " ['Vinay Padilla', '24', '26.9', '$4620.0'],\n",
       " ['Meredith Santiago', '51', '29.3', '$16330.0'],\n",
       " ['Andre Mccarty', '19', '22.7', '$2900.0'],\n",
       " ['Lorena Hodson', '65', '33.1', '$19370.0'],\n",
       " ['Isaac Vu', '34', '24.8', '$7045.0']]"
      ]
     },
     "execution_count": 110,
     "metadata": {},
     "output_type": "execute_result"
    }
   ],
   "source": [
    "medical_records_clean"
   ]
  },
  {
   "cell_type": "markdown",
   "id": "5a09502b",
   "metadata": {},
   "source": [
    "##### 4. Analyzing Data"
   ]
  },
  {
   "cell_type": "markdown",
   "id": "6cc28fde",
   "metadata": {},
   "source": [
    "##### 4.1"
   ]
  },
  {
   "cell_type": "markdown",
   "id": "b27e55d8",
   "metadata": {},
   "source": [
    "You want all of the names in the medical records to be in uppercase characters.\n",
    "\n",
    "In the for loop, update `records[0]` before the print statement so that all of the characters are uppercase."
   ]
  },
  {
   "cell_type": "code",
   "execution_count": 111,
   "id": "b4eebfa7",
   "metadata": {},
   "outputs": [],
   "source": [
    "for record in medical_records_clean:\n",
    "    record[0] = record[0].upper()"
   ]
  },
  {
   "cell_type": "code",
   "execution_count": 112,
   "id": "b3118b3d",
   "metadata": {},
   "outputs": [
    {
     "data": {
      "text/plain": [
       "[['MARINA ALLISON', '27', '31.1', '$7010.0'],\n",
       " ['MARKUS VALDEZ', '30', '22.4', '$4050.0'],\n",
       " ['CONNIE BALLARD', '43', '25.3', '$12060.0'],\n",
       " ['DARNELL WEBER', '35', '20.6', '$7500.0'],\n",
       " ['SYLVIE CHARLES', '22', '22.1', '$3022.0'],\n",
       " ['VINAY PADILLA', '24', '26.9', '$4620.0'],\n",
       " ['MEREDITH SANTIAGO', '51', '29.3', '$16330.0'],\n",
       " ['ANDRE MCCARTY', '19', '22.7', '$2900.0'],\n",
       " ['LORENA HODSON', '65', '33.1', '$19370.0'],\n",
       " ['ISAAC VU', '34', '24.8', '$7045.0']]"
      ]
     },
     "execution_count": 112,
     "metadata": {},
     "output_type": "execute_result"
    }
   ],
   "source": [
    "medical_records_clean"
   ]
  },
  {
   "cell_type": "markdown",
   "id": "eaecde65",
   "metadata": {},
   "source": [
    "##### 4.2"
   ]
  },
  {
   "cell_type": "markdown",
   "id": "9cabd248",
   "metadata": {},
   "source": [
    "Let’s store each name, age, BMI, and insurance cost in separate lists.\n",
    "\n",
    "To start, create four empty lists:\n",
    "- `names`\n",
    "- `ages`\n",
    "- `bmis`\n",
    "- `insurance_costs`"
   ]
  },
  {
   "cell_type": "code",
   "execution_count": 113,
   "id": "a4c60afd",
   "metadata": {},
   "outputs": [],
   "source": [
    "names = []\n",
    "ages = []\n",
    "bmis = []\n",
    "insurance_costs = []"
   ]
  },
  {
   "cell_type": "markdown",
   "id": "8d451d6e",
   "metadata": {},
   "source": [
    "##### 4.3"
   ]
  },
  {
   "cell_type": "markdown",
   "id": "27c86eb4",
   "metadata": {},
   "source": [
    "Next, iterate through `medical_records_clean` and for each record:\n",
    "\n",
    "- Append the name to `names`.\n",
    "- Append the age to `ages`.\n",
    "- Append the BMI to `bmis`.\n",
    "- Append the insurance cost to `insurance_cost`."
   ]
  },
  {
   "cell_type": "code",
   "execution_count": 114,
   "id": "2005b2d1",
   "metadata": {},
   "outputs": [],
   "source": [
    "for record in medical_records_clean:\n",
    "    names.append(record[0])\n",
    "    ages.append(record[1])\n",
    "    bmis.append(record[2])\n",
    "    insurance_costs.append(record[3])"
   ]
  },
  {
   "cell_type": "markdown",
   "id": "2b5fba2c",
   "metadata": {},
   "source": [
    "##### 4.4"
   ]
  },
  {
   "cell_type": "markdown",
   "id": "eeb98ddb",
   "metadata": {},
   "source": [
    "Print `names`, `ages`, `bmis`, and `insurance_costs` outside of the loop.\n",
    "\n",
    "Make sure the output is what you expect."
   ]
  },
  {
   "cell_type": "code",
   "execution_count": 115,
   "id": "f1c0118a",
   "metadata": {},
   "outputs": [
    {
     "name": "stdout",
     "output_type": "stream",
     "text": [
      "['MARINA ALLISON', 'MARKUS VALDEZ', 'CONNIE BALLARD', 'DARNELL WEBER', 'SYLVIE CHARLES', 'VINAY PADILLA', 'MEREDITH SANTIAGO', 'ANDRE MCCARTY', 'LORENA HODSON', 'ISAAC VU']\n",
      "['27', '30', '43', '35', '22', '24', '51', '19', '65', '34']\n",
      "['31.1', '22.4', '25.3', '20.6', '22.1', '26.9', '29.3', '22.7', '33.1', '24.8']\n",
      "['$7010.0', '$4050.0', '$12060.0', '$7500.0', '$3022.0', '$4620.0', '$16330.0', '$2900.0', '$19370.0', '$7045.0']\n"
     ]
    }
   ],
   "source": [
    "print(names)\n",
    "print(ages)\n",
    "print(bmis)\n",
    "print(insurance_costs)"
   ]
  },
  {
   "cell_type": "markdown",
   "id": "bc07bec0",
   "metadata": {},
   "source": [
    "##### 4.5"
   ]
  },
  {
   "cell_type": "markdown",
   "id": "65d2ce3b",
   "metadata": {},
   "source": [
    "Now that all of our data is in separate lists, we can easily perform analysis on that data. Let’s calculate the average BMI in our dataset.\n",
    "\n",
    "First, create a variable called `total_bmi` and set it equal to 0."
   ]
  },
  {
   "cell_type": "code",
   "execution_count": 116,
   "id": "d8750242",
   "metadata": {},
   "outputs": [],
   "source": [
    "total_bmi = 0"
   ]
  },
  {
   "cell_type": "markdown",
   "id": "48bddb0e",
   "metadata": {},
   "source": [
    "##### 4.6"
   ]
  },
  {
   "cell_type": "markdown",
   "id": "1776c75b",
   "metadata": {},
   "source": [
    "Next, use a `for` loop to iterate through `bmis` and add each bmi to `total_bmi`.\n",
    "\n",
    "Remember to convert `bmi` to a float."
   ]
  },
  {
   "cell_type": "code",
   "execution_count": 117,
   "id": "c715ff7c",
   "metadata": {},
   "outputs": [
    {
     "data": {
      "text/plain": [
       "str"
      ]
     },
     "execution_count": 117,
     "metadata": {},
     "output_type": "execute_result"
    }
   ],
   "source": [
    "type(bmis[0])"
   ]
  },
  {
   "cell_type": "code",
   "execution_count": 118,
   "id": "10044a4f",
   "metadata": {},
   "outputs": [],
   "source": [
    "for bmi in bmis:\n",
    "    total_bmi += float(bmi)"
   ]
  },
  {
   "cell_type": "code",
   "execution_count": 119,
   "id": "10209a57",
   "metadata": {},
   "outputs": [
    {
     "data": {
      "text/plain": [
       "258.3"
      ]
     },
     "execution_count": 119,
     "metadata": {},
     "output_type": "execute_result"
    }
   ],
   "source": [
    "total_bmi"
   ]
  },
  {
   "cell_type": "markdown",
   "id": "68ee72c2",
   "metadata": {},
   "source": [
    "##### 4.7"
   ]
  },
  {
   "cell_type": "markdown",
   "id": "7e5c06b1",
   "metadata": {},
   "source": [
    "After the for loop, create a variable called `average_bmi` that stores the `total_bmi` divided by the length of the `bmis` list.\n",
    "\n",
    "Print out `average_bmi` with the following message:\n",
    "\n",
    "Average BMI: {average_bmi}"
   ]
  },
  {
   "cell_type": "code",
   "execution_count": 120,
   "id": "9a7855fb",
   "metadata": {},
   "outputs": [
    {
     "name": "stdout",
     "output_type": "stream",
     "text": [
      "Average BMI: 51.660000000000004\n"
     ]
    }
   ],
   "source": [
    "for bmi in bmis:\n",
    "    total_bmi += float(bmi)\n",
    "    average_bmi = total_bmi / len(bmis)\n",
    "print(f\"Average BMI: {average_bmi}\")"
   ]
  },
  {
   "cell_type": "markdown",
   "id": "49e76356",
   "metadata": {},
   "source": [
    "##### 5. Extra"
   ]
  },
  {
   "cell_type": "markdown",
   "id": "7039a6c3",
   "metadata": {},
   "source": [
    "##### 5.1"
   ]
  },
  {
   "cell_type": "markdown",
   "id": "e51f61c5",
   "metadata": {},
   "source": [
    "Calculate the average insurance cost in insurance_costs. You will have to remove the $ in order to calculate this."
   ]
  },
  {
   "cell_type": "code",
   "execution_count": 121,
   "id": "ca061f02",
   "metadata": {},
   "outputs": [],
   "source": [
    "total_cost = 0"
   ]
  },
  {
   "cell_type": "code",
   "execution_count": 122,
   "id": "01331ed7",
   "metadata": {},
   "outputs": [],
   "source": [
    "for cost in insurance_costs:\n",
    "    total_cost += float(cost[1:])\n",
    "    average_cost = total_cost / len(insurance_costs)"
   ]
  },
  {
   "cell_type": "code",
   "execution_count": 124,
   "id": "232969f0",
   "metadata": {},
   "outputs": [
    {
     "data": {
      "text/plain": [
       "8390.7"
      ]
     },
     "execution_count": 124,
     "metadata": {},
     "output_type": "execute_result"
    }
   ],
   "source": [
    "average_cost"
   ]
  },
  {
   "cell_type": "markdown",
   "id": "581ae49e",
   "metadata": {},
   "source": [
    "##### 5.2"
   ]
  },
  {
   "cell_type": "markdown",
   "id": "c176875d",
   "metadata": {},
   "source": [
    "Write a for loop that outputs a string for each individual in the following format:\n",
    "\n",
    "Marina is 27 years old with a BMI of 31.1 and an insurance cost of $7010.0.\n",
    "\n",
    "------ is -- years old with a BMI of 22.4 and an insurance cost of ------"
   ]
  },
  {
   "cell_type": "code",
   "execution_count": 126,
   "id": "c21a6eb9",
   "metadata": {},
   "outputs": [
    {
     "data": {
      "text/plain": [
       "[['MARINA ALLISON', '27', '31.1', '$7010.0'],\n",
       " ['MARKUS VALDEZ', '30', '22.4', '$4050.0'],\n",
       " ['CONNIE BALLARD', '43', '25.3', '$12060.0'],\n",
       " ['DARNELL WEBER', '35', '20.6', '$7500.0'],\n",
       " ['SYLVIE CHARLES', '22', '22.1', '$3022.0'],\n",
       " ['VINAY PADILLA', '24', '26.9', '$4620.0'],\n",
       " ['MEREDITH SANTIAGO', '51', '29.3', '$16330.0'],\n",
       " ['ANDRE MCCARTY', '19', '22.7', '$2900.0'],\n",
       " ['LORENA HODSON', '65', '33.1', '$19370.0'],\n",
       " ['ISAAC VU', '34', '24.8', '$7045.0']]"
      ]
     },
     "execution_count": 126,
     "metadata": {},
     "output_type": "execute_result"
    }
   ],
   "source": [
    "medical_records_clean"
   ]
  },
  {
   "cell_type": "code",
   "execution_count": 129,
   "id": "5c5ddc4a",
   "metadata": {},
   "outputs": [
    {
     "name": "stdout",
     "output_type": "stream",
     "text": [
      "MARINA ALLISON is 27 years old with a BMI of 31.1 and insurance cost of $7010.0.\n",
      "MARKUS VALDEZ is 30 years old with a BMI of 22.4 and insurance cost of $4050.0.\n",
      "CONNIE BALLARD is 43 years old with a BMI of 25.3 and insurance cost of $12060.0.\n",
      "DARNELL WEBER is 35 years old with a BMI of 20.6 and insurance cost of $7500.0.\n",
      "SYLVIE CHARLES is 22 years old with a BMI of 22.1 and insurance cost of $3022.0.\n",
      "VINAY PADILLA is 24 years old with a BMI of 26.9 and insurance cost of $4620.0.\n",
      "MEREDITH SANTIAGO is 51 years old with a BMI of 29.3 and insurance cost of $16330.0.\n",
      "ANDRE MCCARTY is 19 years old with a BMI of 22.7 and insurance cost of $2900.0.\n",
      "LORENA HODSON is 65 years old with a BMI of 33.1 and insurance cost of $19370.0.\n",
      "ISAAC VU is 34 years old with a BMI of 24.8 and insurance cost of $7045.0.\n"
     ]
    }
   ],
   "source": [
    "for record in medical_records_clean:\n",
    "    print(\"{} is {} years old with a BMI of {} and insurance cost of {}.\".format(record[0], record[1], record[2], record[3]))"
   ]
  },
  {
   "cell_type": "code",
   "execution_count": null,
   "id": "800a59c1",
   "metadata": {},
   "outputs": [],
   "source": []
  }
 ],
 "metadata": {
  "kernelspec": {
   "display_name": "Python 3 (ipykernel)",
   "language": "python",
   "name": "python3"
  },
  "language_info": {
   "codemirror_mode": {
    "name": "ipython",
    "version": 3
   },
   "file_extension": ".py",
   "mimetype": "text/x-python",
   "name": "python",
   "nbconvert_exporter": "python",
   "pygments_lexer": "ipython3",
   "version": "3.9.12"
  }
 },
 "nbformat": 4,
 "nbformat_minor": 5
}
