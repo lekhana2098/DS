{
 "cells": [
  {
   "cell_type": "code",
   "execution_count": 96,
   "id": "9bde3341",
   "metadata": {},
   "outputs": [],
   "source": [
    "import pandas as pd\n",
    "import matplotlib.pyplot as plt\n",
    "import seaborn as sns\n",
    "import sqlite3 as sql\n",
    "sns.set_style(\"darkgrid\")"
   ]
  },
  {
   "cell_type": "code",
   "execution_count": 2,
   "id": "34d0b70d",
   "metadata": {},
   "outputs": [],
   "source": [
    "%load_ext sql"
   ]
  },
  {
   "cell_type": "code",
   "execution_count": 13,
   "id": "09363e52",
   "metadata": {},
   "outputs": [],
   "source": [
    "%sql sqlite:///CoolTshirts.db"
   ]
  },
  {
   "cell_type": "markdown",
   "id": "7a87ac3b",
   "metadata": {},
   "source": [
    "### A.Get familiar with CoolTShirts"
   ]
  },
  {
   "cell_type": "markdown",
   "id": "bfd189f0",
   "metadata": {},
   "source": [
    "#####  1. How many campaigns and sources does CoolTShirts use? Which source is used for each campaign?<br>\n",
    "--Use three queries:<br>\n",
    "--one for the number of distinct campaigns,<br>\n",
    "--one for the number of distinct sources,<br>\n",
    "--one to find how they are related."
   ]
  },
  {
   "cell_type": "code",
   "execution_count": 21,
   "id": "abc45105",
   "metadata": {},
   "outputs": [
    {
     "name": "stdout",
     "output_type": "stream",
     "text": [
      " * sqlite:///CoolTshirts.db\n",
      "Done.\n"
     ]
    },
    {
     "data": {
      "text/html": [
       "<table>\n",
       "    <tr>\n",
       "        <th>CountOfCompanies</th>\n",
       "    </tr>\n",
       "    <tr>\n",
       "        <td>8</td>\n",
       "    </tr>\n",
       "</table>"
      ],
      "text/plain": [
       "[(8,)]"
      ]
     },
     "execution_count": 21,
     "metadata": {},
     "output_type": "execute_result"
    }
   ],
   "source": [
    "%%sql\n",
    "SELECT \n",
    "    COUNT(DISTINCT utm_campaign) AS CountOfCompanies\n",
    "FROM \n",
    "    page_visits;"
   ]
  },
  {
   "cell_type": "code",
   "execution_count": 24,
   "id": "486ba0c2",
   "metadata": {},
   "outputs": [
    {
     "name": "stdout",
     "output_type": "stream",
     "text": [
      " * sqlite:///CoolTshirts.db\n",
      "Done.\n"
     ]
    },
    {
     "data": {
      "text/html": [
       "<table>\n",
       "    <tr>\n",
       "        <th>CountOfSource</th>\n",
       "    </tr>\n",
       "    <tr>\n",
       "        <td>6</td>\n",
       "    </tr>\n",
       "</table>"
      ],
      "text/plain": [
       "[(6,)]"
      ]
     },
     "execution_count": 24,
     "metadata": {},
     "output_type": "execute_result"
    }
   ],
   "source": [
    "%%sql\n",
    "SELECT \n",
    "    COUNT(DISTINCT utm_source) CountOfSource\n",
    "FROM \n",
    "    page_visits\n"
   ]
  },
  {
   "cell_type": "code",
   "execution_count": 29,
   "id": "ea54aac1",
   "metadata": {},
   "outputs": [
    {
     "name": "stdout",
     "output_type": "stream",
     "text": [
      " * sqlite:///CoolTshirts.db\n",
      "Done.\n"
     ]
    },
    {
     "data": {
      "text/html": [
       "<table>\n",
       "    <tr>\n",
       "        <th>utm_campaign</th>\n",
       "        <th>utm_source</th>\n",
       "    </tr>\n",
       "    <tr>\n",
       "        <td>cool-tshirts-search</td>\n",
       "        <td>google</td>\n",
       "    </tr>\n",
       "    <tr>\n",
       "        <td>getting-to-know-cool-tshirts</td>\n",
       "        <td>nytimes</td>\n",
       "    </tr>\n",
       "    <tr>\n",
       "        <td>interview-with-cool-tshirts-founder</td>\n",
       "        <td>medium</td>\n",
       "    </tr>\n",
       "    <tr>\n",
       "        <td>paid-search</td>\n",
       "        <td>google</td>\n",
       "    </tr>\n",
       "    <tr>\n",
       "        <td>retargetting-ad</td>\n",
       "        <td>facebook</td>\n",
       "    </tr>\n",
       "    <tr>\n",
       "        <td>retargetting-campaign</td>\n",
       "        <td>email</td>\n",
       "    </tr>\n",
       "    <tr>\n",
       "        <td>ten-crazy-cool-tshirts-facts</td>\n",
       "        <td>buzzfeed</td>\n",
       "    </tr>\n",
       "    <tr>\n",
       "        <td>weekly-newsletter</td>\n",
       "        <td>email</td>\n",
       "    </tr>\n",
       "</table>"
      ],
      "text/plain": [
       "[('cool-tshirts-search', 'google'),\n",
       " ('getting-to-know-cool-tshirts', 'nytimes'),\n",
       " ('interview-with-cool-tshirts-founder', 'medium'),\n",
       " ('paid-search', 'google'),\n",
       " ('retargetting-ad', 'facebook'),\n",
       " ('retargetting-campaign', 'email'),\n",
       " ('ten-crazy-cool-tshirts-facts', 'buzzfeed'),\n",
       " ('weekly-newsletter', 'email')]"
      ]
     },
     "execution_count": 29,
     "metadata": {},
     "output_type": "execute_result"
    }
   ],
   "source": [
    "%%sql\n",
    "SELECT \n",
    "    DISTINCT utm_campaign, utm_source\n",
    "FROM \n",
    "    page_visits\n",
    "GROUP BY\n",
    "    utm_campaign"
   ]
  },
  {
   "cell_type": "markdown",
   "id": "9f0f195b",
   "metadata": {},
   "source": [
    "##### 2. What pages are on the CoolTShirts website?"
   ]
  },
  {
   "cell_type": "code",
   "execution_count": 30,
   "id": "efdf8d0d",
   "metadata": {},
   "outputs": [
    {
     "name": "stdout",
     "output_type": "stream",
     "text": [
      " * sqlite:///CoolTshirts.db\n",
      "Done.\n"
     ]
    },
    {
     "data": {
      "text/html": [
       "<table>\n",
       "    <tr>\n",
       "        <th>page_name</th>\n",
       "    </tr>\n",
       "    <tr>\n",
       "        <td>1 - landing_page</td>\n",
       "    </tr>\n",
       "    <tr>\n",
       "        <td>2 - shopping_cart</td>\n",
       "    </tr>\n",
       "    <tr>\n",
       "        <td>3 - checkout</td>\n",
       "    </tr>\n",
       "    <tr>\n",
       "        <td>4 - purchase</td>\n",
       "    </tr>\n",
       "</table>"
      ],
      "text/plain": [
       "[('1 - landing_page',),\n",
       " ('2 - shopping_cart',),\n",
       " ('3 - checkout',),\n",
       " ('4 - purchase',)]"
      ]
     },
     "execution_count": 30,
     "metadata": {},
     "output_type": "execute_result"
    }
   ],
   "source": [
    "%%sql\n",
    "SELECT \n",
    "    DISTINCT page_name\n",
    "FROM \n",
    "    page_visits"
   ]
  },
  {
   "cell_type": "markdown",
   "id": "7575dce9",
   "metadata": {},
   "source": [
    "### B. What is the user journey?"
   ]
  },
  {
   "cell_type": "markdown",
   "id": "884179d9",
   "metadata": {},
   "source": [
    "##### 3. How many first touches is each campaign responsible for?"
   ]
  },
  {
   "cell_type": "code",
   "execution_count": 167,
   "id": "969b0524",
   "metadata": {},
   "outputs": [
    {
     "name": "stdout",
     "output_type": "stream",
     "text": [
      " * sqlite:///CoolTshirts.db\n",
      "Done.\n"
     ]
    }
   ],
   "source": [
    "first_touches = %sql WITH first_touch AS \\\n",
    "                    (\\\n",
    "                    SELECT user_id,\\\n",
    "                    MIN(timestamp) as first_touch_at\\\n",
    "                    FROM page_visits\\\n",
    "                    GROUP BY user_id\\\n",
    "                    ),\\\n",
    "                    ft_attr AS\\\n",
    "                    (\\\n",
    "                    SELECT ft.user_id,\\\n",
    "                        ft.first_touch_at,\\\n",
    "                        pv.utm_source,\\\n",
    "                        pv.utm_campaign\\\n",
    "                    FROM first_touch ft\\\n",
    "                    JOIN page_visits pv\\\n",
    "                        ON ft.user_id = pv.user_id\\\n",
    "                        AND ft.first_touch_at = pv.timestamp\\\n",
    "                    )\\\n",
    "                    SELECT utm_source, utm_campaign, COUNT(DISTINCT user_id) count_of_first_touches\\\n",
    "                    FROM ft_attr\\\n",
    "                    GROUP BY 1, 2\\\n",
    "                    ORDER BY 3 DESC;\n"
   ]
  },
  {
   "cell_type": "code",
   "execution_count": 168,
   "id": "a65d3cec",
   "metadata": {},
   "outputs": [],
   "source": [
    "first_touches = first_touches.DataFrame()"
   ]
  },
  {
   "cell_type": "code",
   "execution_count": 169,
   "id": "925bbd7b",
   "metadata": {},
   "outputs": [
    {
     "data": {
      "text/html": [
       "<div>\n",
       "<style scoped>\n",
       "    .dataframe tbody tr th:only-of-type {\n",
       "        vertical-align: middle;\n",
       "    }\n",
       "\n",
       "    .dataframe tbody tr th {\n",
       "        vertical-align: top;\n",
       "    }\n",
       "\n",
       "    .dataframe thead th {\n",
       "        text-align: right;\n",
       "    }\n",
       "</style>\n",
       "<table border=\"1\" class=\"dataframe\">\n",
       "  <thead>\n",
       "    <tr style=\"text-align: right;\">\n",
       "      <th></th>\n",
       "      <th>utm_source</th>\n",
       "      <th>utm_campaign</th>\n",
       "      <th>count_of_first_touches</th>\n",
       "    </tr>\n",
       "  </thead>\n",
       "  <tbody>\n",
       "    <tr>\n",
       "      <th>0</th>\n",
       "      <td>nytimes</td>\n",
       "      <td>getting-to-know-cool-tshirts</td>\n",
       "      <td>575</td>\n",
       "    </tr>\n",
       "    <tr>\n",
       "      <th>1</th>\n",
       "      <td>medium</td>\n",
       "      <td>interview-with-cool-tshirts-founder</td>\n",
       "      <td>571</td>\n",
       "    </tr>\n",
       "    <tr>\n",
       "      <th>2</th>\n",
       "      <td>buzzfeed</td>\n",
       "      <td>ten-crazy-cool-tshirts-facts</td>\n",
       "      <td>544</td>\n",
       "    </tr>\n",
       "    <tr>\n",
       "      <th>3</th>\n",
       "      <td>google</td>\n",
       "      <td>cool-tshirts-search</td>\n",
       "      <td>154</td>\n",
       "    </tr>\n",
       "    <tr>\n",
       "      <th>4</th>\n",
       "      <td>email</td>\n",
       "      <td>weekly-newsletter</td>\n",
       "      <td>49</td>\n",
       "    </tr>\n",
       "    <tr>\n",
       "      <th>5</th>\n",
       "      <td>facebook</td>\n",
       "      <td>retargetting-ad</td>\n",
       "      <td>42</td>\n",
       "    </tr>\n",
       "    <tr>\n",
       "      <th>6</th>\n",
       "      <td>email</td>\n",
       "      <td>retargetting-campaign</td>\n",
       "      <td>25</td>\n",
       "    </tr>\n",
       "    <tr>\n",
       "      <th>7</th>\n",
       "      <td>google</td>\n",
       "      <td>paid-search</td>\n",
       "      <td>21</td>\n",
       "    </tr>\n",
       "  </tbody>\n",
       "</table>\n",
       "</div>"
      ],
      "text/plain": [
       "  utm_source                         utm_campaign  count_of_first_touches\n",
       "0    nytimes         getting-to-know-cool-tshirts                     575\n",
       "1     medium  interview-with-cool-tshirts-founder                     571\n",
       "2   buzzfeed         ten-crazy-cool-tshirts-facts                     544\n",
       "3     google                  cool-tshirts-search                     154\n",
       "4      email                    weekly-newsletter                      49\n",
       "5   facebook                      retargetting-ad                      42\n",
       "6      email                retargetting-campaign                      25\n",
       "7     google                          paid-search                      21"
      ]
     },
     "execution_count": 169,
     "metadata": {},
     "output_type": "execute_result"
    }
   ],
   "source": [
    "first_touches"
   ]
  },
  {
   "cell_type": "code",
   "execution_count": 209,
   "id": "7cc745a8",
   "metadata": {},
   "outputs": [
    {
     "data": {
      "image/png": "[encoded data removed]",
      "text/plain": [
       "<Figure size 720x360 with 1 Axes>"
      ]
     },
     "metadata": {},
     "output_type": "display_data"
    }
   ],
   "source": [
    "plt.figure(figsize=(10,5))\n",
    "ax = sns.barplot(data=first_touches, y=\"utm_campaign\", x=\"count_of_first_touches\", hue=\"utm_source\", dodge=False)\n",
    "\n",
    "for container in ax.containers:\n",
    "    ax.bar_label(container, fontsize=12)\n",
    "\n",
    "plt.legend(loc=4)\n",
    "plt.tight_layout()\n",
    "plt.savefig(\"1\")"
   ]
  },
  {
   "cell_type": "markdown",
   "id": "7c39d44e",
   "metadata": {},
   "source": [
    "##### 4. How many last touches is each campaign responsible for?"
   ]
  },
  {
   "cell_type": "code",
   "execution_count": 171,
   "id": "7317e96c",
   "metadata": {},
   "outputs": [
    {
     "name": "stdout",
     "output_type": "stream",
     "text": [
      " * sqlite:///CoolTshirts.db\n",
      "Done.\n"
     ]
    }
   ],
   "source": [
    "last_touches = %sql WITH last_touch AS \\\n",
    "                    (\\\n",
    "                    SELECT user_id,\\\n",
    "                    MAX(timestamp) as last_touch_at\\\n",
    "                    FROM page_visits\\\n",
    "                    GROUP BY user_id\\\n",
    "                    ),\\\n",
    "                    lt_attr AS\\\n",
    "                    (\\\n",
    "                    SELECT ft.user_id,\\\n",
    "                        ft.last_touch_at,\\\n",
    "                        pv.utm_source,\\\n",
    "                            pv.utm_campaign\\\n",
    "                    FROM last_touch ft\\\n",
    "                    JOIN page_visits pv\\\n",
    "                        ON ft.user_id = pv.user_id\\\n",
    "                        AND ft.last_touch_at = pv.timestamp\\\n",
    "                    )\\\n",
    "                    SELECT utm_source, utm_campaign, COUNT(DISTINCT user_id) count_of_last_touches\\\n",
    "                    FROM lt_attr\\\n",
    "                    GROUP BY 1, 2\\\n",
    "                    ORDER BY 3 DESC;"
   ]
  },
  {
   "cell_type": "code",
   "execution_count": 172,
   "id": "c8d2bc5c",
   "metadata": {},
   "outputs": [],
   "source": [
    "last_touches = last_touches.DataFrame()"
   ]
  },
  {
   "cell_type": "code",
   "execution_count": 173,
   "id": "82d2c58f",
   "metadata": {},
   "outputs": [
    {
     "data": {
      "text/html": [
       "<div>\n",
       "<style scoped>\n",
       "    .dataframe tbody tr th:only-of-type {\n",
       "        vertical-align: middle;\n",
       "    }\n",
       "\n",
       "    .dataframe tbody tr th {\n",
       "        vertical-align: top;\n",
       "    }\n",
       "\n",
       "    .dataframe thead th {\n",
       "        text-align: right;\n",
       "    }\n",
       "</style>\n",
       "<table border=\"1\" class=\"dataframe\">\n",
       "  <thead>\n",
       "    <tr style=\"text-align: right;\">\n",
       "      <th></th>\n",
       "      <th>utm_source</th>\n",
       "      <th>utm_campaign</th>\n",
       "      <th>count_of_last_touches</th>\n",
       "    </tr>\n",
       "  </thead>\n",
       "  <tbody>\n",
       "    <tr>\n",
       "      <th>0</th>\n",
       "      <td>email</td>\n",
       "      <td>weekly-newsletter</td>\n",
       "      <td>401</td>\n",
       "    </tr>\n",
       "    <tr>\n",
       "      <th>1</th>\n",
       "      <td>facebook</td>\n",
       "      <td>retargetting-ad</td>\n",
       "      <td>401</td>\n",
       "    </tr>\n",
       "    <tr>\n",
       "      <th>2</th>\n",
       "      <td>nytimes</td>\n",
       "      <td>getting-to-know-cool-tshirts</td>\n",
       "      <td>276</td>\n",
       "    </tr>\n",
       "    <tr>\n",
       "      <th>3</th>\n",
       "      <td>buzzfeed</td>\n",
       "      <td>ten-crazy-cool-tshirts-facts</td>\n",
       "      <td>229</td>\n",
       "    </tr>\n",
       "    <tr>\n",
       "      <th>4</th>\n",
       "      <td>medium</td>\n",
       "      <td>interview-with-cool-tshirts-founder</td>\n",
       "      <td>227</td>\n",
       "    </tr>\n",
       "    <tr>\n",
       "      <th>5</th>\n",
       "      <td>email</td>\n",
       "      <td>retargetting-campaign</td>\n",
       "      <td>219</td>\n",
       "    </tr>\n",
       "    <tr>\n",
       "      <th>6</th>\n",
       "      <td>google</td>\n",
       "      <td>paid-search</td>\n",
       "      <td>158</td>\n",
       "    </tr>\n",
       "    <tr>\n",
       "      <th>7</th>\n",
       "      <td>google</td>\n",
       "      <td>cool-tshirts-search</td>\n",
       "      <td>68</td>\n",
       "    </tr>\n",
       "  </tbody>\n",
       "</table>\n",
       "</div>"
      ],
      "text/plain": [
       "  utm_source                         utm_campaign  count_of_last_touches\n",
       "0      email                    weekly-newsletter                    401\n",
       "1   facebook                      retargetting-ad                    401\n",
       "2    nytimes         getting-to-know-cool-tshirts                    276\n",
       "3   buzzfeed         ten-crazy-cool-tshirts-facts                    229\n",
       "4     medium  interview-with-cool-tshirts-founder                    227\n",
       "5      email                retargetting-campaign                    219\n",
       "6     google                          paid-search                    158\n",
       "7     google                  cool-tshirts-search                     68"
      ]
     },
     "execution_count": 173,
     "metadata": {},
     "output_type": "execute_result"
    }
   ],
   "source": [
    "last_touches"
   ]
  },
  {
   "cell_type": "code",
   "execution_count": 210,
   "id": "512a45b1",
   "metadata": {},
   "outputs": [
    {
     "data": {
      "image/png": "[encoded data removed]",
      "text/plain": [
       "<Figure size 720x360 with 1 Axes>"
      ]
     },
     "metadata": {},
     "output_type": "display_data"
    }
   ],
   "source": [
    "plt.figure(figsize=(10,5))\n",
    "ax = sns.barplot(data=last_touches, y=\"utm_campaign\", x=\"count_of_last_touches\", hue=\"utm_source\", dodge=False)\n",
    "\n",
    "for container in ax.containers:\n",
    "    ax.bar_label(container, fontsize=12)\n",
    "\n",
    "plt.legend(loc=4)\n",
    "plt.tight_layout()\n",
    "plt.savefig(\"2\")"
   ]
  },
  {
   "cell_type": "markdown",
   "id": "9616083b",
   "metadata": {},
   "source": [
    "##### 5. How many visitors make a purchase?"
   ]
  },
  {
   "cell_type": "code",
   "execution_count": 115,
   "id": "2effa0b9",
   "metadata": {},
   "outputs": [
    {
     "name": "stdout",
     "output_type": "stream",
     "text": [
      " * sqlite:///CoolTshirts.db\n",
      "Done.\n"
     ]
    },
    {
     "data": {
      "text/html": [
       "<table>\n",
       "    <tr>\n",
       "        <th>count_of_visitors</th>\n",
       "    </tr>\n",
       "    <tr>\n",
       "        <td>361</td>\n",
       "    </tr>\n",
       "</table>"
      ],
      "text/plain": [
       "[(361,)]"
      ]
     },
     "execution_count": 115,
     "metadata": {},
     "output_type": "execute_result"
    }
   ],
   "source": [
    "%%sql\n",
    "SELECT \n",
    "    COUNT(DISTINCT user_id) AS count_of_visitors\n",
    "FROM \n",
    "    page_visits\n",
    "WHERE\n",
    "    page_name = '4 - purchase'"
   ]
  },
  {
   "cell_type": "markdown",
   "id": "175c8c10",
   "metadata": {},
   "source": [
    "##### 6. How many last touches on the purchase page is each campaign responsible for?"
   ]
  },
  {
   "cell_type": "code",
   "execution_count": 175,
   "id": "20036236",
   "metadata": {},
   "outputs": [
    {
     "name": "stdout",
     "output_type": "stream",
     "text": [
      " * sqlite:///CoolTshirts.db\n",
      "Done.\n"
     ]
    }
   ],
   "source": [
    "purchase_page = %sql    WITH last_touch AS \\\n",
    "                        (\\\n",
    "                        SELECT user_id,\\\n",
    "                        MAX(timestamp) as last_touch_at\\\n",
    "                        FROM page_visits\\\n",
    "                        WHERE page_name = '4 - purchase'\\\n",
    "                        GROUP BY user_id\\\n",
    "                        ),\\\n",
    "                        lt_attr AS\\\n",
    "                        (\\\n",
    "                        SELECT ft.user_id,\\\n",
    "                            ft.last_touch_at,\\\n",
    "                            pv.utm_source,\\\n",
    "                                pv.utm_campaign\\\n",
    "                        FROM last_touch ft\\\n",
    "                        JOIN page_visits pv\\\n",
    "                            ON ft.user_id = pv.user_id\\\n",
    "                            AND ft.last_touch_at = pv.timestamp\\\n",
    "                        )\\\n",
    "                        SELECT utm_source, utm_campaign, COUNT(DISTINCT user_id) count_of_last_touches\\\n",
    "                        FROM lt_attr\\\n",
    "                        GROUP BY 1, 2\\\n",
    "                        ORDER BY 3 DESC;"
   ]
  },
  {
   "cell_type": "code",
   "execution_count": 176,
   "id": "1de769ea",
   "metadata": {},
   "outputs": [],
   "source": [
    "purchase_page = purchase_page.DataFrame()"
   ]
  },
  {
   "cell_type": "code",
   "execution_count": 177,
   "id": "6aab6c88",
   "metadata": {},
   "outputs": [
    {
     "data": {
      "text/html": [
       "<div>\n",
       "<style scoped>\n",
       "    .dataframe tbody tr th:only-of-type {\n",
       "        vertical-align: middle;\n",
       "    }\n",
       "\n",
       "    .dataframe tbody tr th {\n",
       "        vertical-align: top;\n",
       "    }\n",
       "\n",
       "    .dataframe thead th {\n",
       "        text-align: right;\n",
       "    }\n",
       "</style>\n",
       "<table border=\"1\" class=\"dataframe\">\n",
       "  <thead>\n",
       "    <tr style=\"text-align: right;\">\n",
       "      <th></th>\n",
       "      <th>utm_source</th>\n",
       "      <th>utm_campaign</th>\n",
       "      <th>count_of_last_touches</th>\n",
       "    </tr>\n",
       "  </thead>\n",
       "  <tbody>\n",
       "    <tr>\n",
       "      <th>0</th>\n",
       "      <td>email</td>\n",
       "      <td>weekly-newsletter</td>\n",
       "      <td>115</td>\n",
       "    </tr>\n",
       "    <tr>\n",
       "      <th>1</th>\n",
       "      <td>facebook</td>\n",
       "      <td>retargetting-ad</td>\n",
       "      <td>113</td>\n",
       "    </tr>\n",
       "    <tr>\n",
       "      <th>2</th>\n",
       "      <td>email</td>\n",
       "      <td>retargetting-campaign</td>\n",
       "      <td>54</td>\n",
       "    </tr>\n",
       "    <tr>\n",
       "      <th>3</th>\n",
       "      <td>google</td>\n",
       "      <td>paid-search</td>\n",
       "      <td>52</td>\n",
       "    </tr>\n",
       "    <tr>\n",
       "      <th>4</th>\n",
       "      <td>buzzfeed</td>\n",
       "      <td>ten-crazy-cool-tshirts-facts</td>\n",
       "      <td>9</td>\n",
       "    </tr>\n",
       "    <tr>\n",
       "      <th>5</th>\n",
       "      <td>nytimes</td>\n",
       "      <td>getting-to-know-cool-tshirts</td>\n",
       "      <td>9</td>\n",
       "    </tr>\n",
       "    <tr>\n",
       "      <th>6</th>\n",
       "      <td>medium</td>\n",
       "      <td>interview-with-cool-tshirts-founder</td>\n",
       "      <td>7</td>\n",
       "    </tr>\n",
       "    <tr>\n",
       "      <th>7</th>\n",
       "      <td>google</td>\n",
       "      <td>cool-tshirts-search</td>\n",
       "      <td>2</td>\n",
       "    </tr>\n",
       "  </tbody>\n",
       "</table>\n",
       "</div>"
      ],
      "text/plain": [
       "  utm_source                         utm_campaign  count_of_last_touches\n",
       "0      email                    weekly-newsletter                    115\n",
       "1   facebook                      retargetting-ad                    113\n",
       "2      email                retargetting-campaign                     54\n",
       "3     google                          paid-search                     52\n",
       "4   buzzfeed         ten-crazy-cool-tshirts-facts                      9\n",
       "5    nytimes         getting-to-know-cool-tshirts                      9\n",
       "6     medium  interview-with-cool-tshirts-founder                      7\n",
       "7     google                  cool-tshirts-search                      2"
      ]
     },
     "execution_count": 177,
     "metadata": {},
     "output_type": "execute_result"
    }
   ],
   "source": [
    "purchase_page"
   ]
  },
  {
   "cell_type": "code",
   "execution_count": 217,
   "id": "7eb80421",
   "metadata": {},
   "outputs": [
    {
     "data": {
      "image/png": "[encoded data removed]",
      "text/plain": [
       "<Figure size 720x360 with 1 Axes>"
      ]
     },
     "metadata": {},
     "output_type": "display_data"
    }
   ],
   "source": [
    "plt.figure(figsize=(10,5))\n",
    "ax = sns.barplot(data=purchase_page, y=\"utm_campaign\", x=\"count_of_last_touches\", hue=\"utm_source\", dodge=False)\n",
    "\n",
    "for container in ax.containers:\n",
    "    ax.bar_label(container, fontsize=12)\n",
    "\n",
    "plt.legend(loc=4)\n",
    "plt.title(\"Purchase Page Count of Last Touches\")\n",
    "plt.tight_layout()\n",
    "plt.savefig(\"3\")"
   ]
  },
  {
   "cell_type": "markdown",
   "id": "8d76ba08",
   "metadata": {},
   "source": [
    "##### CoolTShirts can re-invest in 5 campaigns. Given your findings in the project, which should they pick and why?"
   ]
  },
  {
   "cell_type": "code",
   "execution_count": 179,
   "id": "dc6e8afc",
   "metadata": {
    "scrolled": false
   },
   "outputs": [
    {
     "name": "stdout",
     "output_type": "stream",
     "text": [
      " * sqlite:///CoolTshirts.db\n",
      "Done.\n"
     ]
    },
    {
     "data": {
      "text/html": [
       "<table>\n",
       "    <tr>\n",
       "        <th>utm_campaign</th>\n",
       "        <th>count_of_last_touches</th>\n",
       "    </tr>\n",
       "    <tr>\n",
       "        <td>weekly-newsletter</td>\n",
       "        <td>115</td>\n",
       "    </tr>\n",
       "    <tr>\n",
       "        <td>retargetting-ad</td>\n",
       "        <td>113</td>\n",
       "    </tr>\n",
       "    <tr>\n",
       "        <td>retargetting-campaign</td>\n",
       "        <td>54</td>\n",
       "    </tr>\n",
       "    <tr>\n",
       "        <td>paid-search</td>\n",
       "        <td>52</td>\n",
       "    </tr>\n",
       "    <tr>\n",
       "        <td>ten-crazy-cool-tshirts-facts</td>\n",
       "        <td>9</td>\n",
       "    </tr>\n",
       "</table>"
      ],
      "text/plain": [
       "[('weekly-newsletter', 115),\n",
       " ('retargetting-ad', 113),\n",
       " ('retargetting-campaign', 54),\n",
       " ('paid-search', 52),\n",
       " ('ten-crazy-cool-tshirts-facts', 9)]"
      ]
     },
     "execution_count": 179,
     "metadata": {},
     "output_type": "execute_result"
    }
   ],
   "source": [
    "%%sql\n",
    "WITH last_touch AS \n",
    "(\n",
    "SELECT user_id,\n",
    "MAX(timestamp) as last_touch_at\n",
    "FROM page_visits\n",
    "WHERE page_name = '4 - purchase'\n",
    "GROUP BY user_id\n",
    "),\n",
    "lt_attr AS\n",
    "(\n",
    "SELECT ft.user_id,\n",
    "    ft.last_touch_at,\n",
    "    pv.utm_source,\n",
    "        pv.utm_campaign\n",
    "FROM last_touch ft\n",
    "JOIN page_visits pv\n",
    "    ON ft.user_id = pv.user_id\n",
    "    AND ft.last_touch_at = pv.timestamp\n",
    ")\n",
    "SELECT utm_campaign, COUNT(DISTINCT user_id) count_of_last_touches\n",
    "FROM lt_attr\n",
    "GROUP BY  utm_campaign\n",
    "ORDER BY 2 DESC\n",
    "LIMIT 5"
   ]
  }
 ],
 "metadata": {
  "kernelspec": {
   "display_name": "Python 3 (ipykernel)",
   "language": "python",
   "name": "python3"
  },
  "language_info": {
   "codemirror_mode": {
    "name": "ipython",
    "version": 3
   },
   "file_extension": ".py",
   "mimetype": "text/x-python",
   "name": "python",
   "nbconvert_exporter": "python",
   "pygments_lexer": "ipython3",
   "version": "3.9.12"
  }
 },
 "nbformat": 4,
 "nbformat_minor": 5
}
