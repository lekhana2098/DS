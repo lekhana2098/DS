{
 "cells": [
  {
   "cell_type": "markdown",
   "id": "1b6fb739",
   "metadata": {},
   "source": [
    "# Web Scraping and Data Analysis"
   ]
  },
  {
   "cell_type": "markdown",
   "id": "7bcda9a4",
   "metadata": {},
   "source": [
    "### 1. Web Scraping"
   ]
  },
  {
   "cell_type": "code",
   "execution_count": 3,
   "id": "aea8825a",
   "metadata": {},
   "outputs": [],
   "source": [
    "import requests\n",
    "from bs4 import BeautifulSoup\n",
    "import numpy as np\n",
    "import pandas as pd\n",
    "import matplotlib.pyplot as plt\n",
    "import seaborn as sns"
   ]
  },
  {
   "cell_type": "code",
   "execution_count": 4,
   "id": "19731a8b",
   "metadata": {},
   "outputs": [],
   "source": [
    "url = \"https://content.codecademy.com/courses/beautifulsoup/cacao/index.html\""
   ]
  },
  {
   "cell_type": "code",
   "execution_count": 5,
   "id": "2f45f517",
   "metadata": {},
   "outputs": [],
   "source": [
    "data = requests.get(url).text"
   ]
  },
  {
   "cell_type": "code",
   "execution_count": 6,
   "id": "811d044f",
   "metadata": {},
   "outputs": [],
   "source": [
    "soup = BeautifulSoup(data, \"html5lib\")"
   ]
  },
  {
   "cell_type": "code",
   "execution_count": 7,
   "id": "916038dc",
   "metadata": {},
   "outputs": [],
   "source": [
    "table = soup.find_all(\"table\")[1]"
   ]
  },
  {
   "cell_type": "code",
   "execution_count": 18,
   "id": "609cfdcd",
   "metadata": {},
   "outputs": [],
   "source": [
    "companies = []\n",
    "for row in table.find_all(\"tr\")[1:]:\n",
    "    companies.append(row.find_all(\"td\")[0].get_text())"
   ]
  },
  {
   "cell_type": "code",
   "execution_count": 19,
   "id": "71cba31a",
   "metadata": {},
   "outputs": [],
   "source": [
    "review_date = []\n",
    "for row in table.find_all(\"tr\")[1:]:\n",
    "    review_date.append(row.find_all(\"td\")[3].get_text())"
   ]
  },
  {
   "cell_type": "code",
   "execution_count": 20,
   "id": "b510a587",
   "metadata": {},
   "outputs": [],
   "source": [
    "cocoa_percent = []\n",
    "for row in table.find_all(\"tr\")[1:]:\n",
    "    cocoa_percent.append(row.find_all(\"td\")[4].get_text())"
   ]
  },
  {
   "cell_type": "code",
   "execution_count": 21,
   "id": "bb9184c6",
   "metadata": {},
   "outputs": [],
   "source": [
    "company_location = []\n",
    "for row in table.find_all(\"tr\")[1:]:\n",
    "    company_location.append(row.find_all(\"td\")[5].get_text())"
   ]
  },
  {
   "cell_type": "code",
   "execution_count": 22,
   "id": "e065e1b7",
   "metadata": {},
   "outputs": [],
   "source": [
    "rating = []\n",
    "for row in table.find_all(\"tr\")[1:]:\n",
    "    rating.append(row.find_all(\"td\")[6].get_text())"
   ]
  },
  {
   "cell_type": "code",
   "execution_count": 23,
   "id": "9bcdb0e2",
   "metadata": {},
   "outputs": [],
   "source": [
    "data_dict = {\"Companies\":companies, \n",
    "             \"ReviewDate\": review_date, \n",
    "             \"CocoaPercent\": cocoa_percent, \n",
    "             \"CompanyLocation\":company_location,\n",
    "             \"Rating\":rating}"
   ]
  },
  {
   "cell_type": "code",
   "execution_count": 24,
   "id": "84ea71c4",
   "metadata": {},
   "outputs": [],
   "source": [
    "df = pd.DataFrame(data_dict)"
   ]
  },
  {
   "cell_type": "code",
   "execution_count": 25,
   "id": "b68e779d",
   "metadata": {},
   "outputs": [
    {
     "data": {
      "text/html": [
       "<div>\n",
       "<style scoped>\n",
       "    .dataframe tbody tr th:only-of-type {\n",
       "        vertical-align: middle;\n",
       "    }\n",
       "\n",
       "    .dataframe tbody tr th {\n",
       "        vertical-align: top;\n",
       "    }\n",
       "\n",
       "    .dataframe thead th {\n",
       "        text-align: right;\n",
       "    }\n",
       "</style>\n",
       "<table border=\"1\" class=\"dataframe\">\n",
       "  <thead>\n",
       "    <tr style=\"text-align: right;\">\n",
       "      <th></th>\n",
       "      <th>Companies</th>\n",
       "      <th>ReviewDate</th>\n",
       "      <th>CocoaPercent</th>\n",
       "      <th>CompanyLocation</th>\n",
       "      <th>Rating</th>\n",
       "    </tr>\n",
       "  </thead>\n",
       "  <tbody>\n",
       "    <tr>\n",
       "      <th>0</th>\n",
       "      <td>A. Morin</td>\n",
       "      <td>2016</td>\n",
       "      <td>63%</td>\n",
       "      <td>France</td>\n",
       "      <td>3.75</td>\n",
       "    </tr>\n",
       "    <tr>\n",
       "      <th>1</th>\n",
       "      <td>A. Morin</td>\n",
       "      <td>2015</td>\n",
       "      <td>70%</td>\n",
       "      <td>France</td>\n",
       "      <td>2.75</td>\n",
       "    </tr>\n",
       "    <tr>\n",
       "      <th>2</th>\n",
       "      <td>A. Morin</td>\n",
       "      <td>2015</td>\n",
       "      <td>70%</td>\n",
       "      <td>France</td>\n",
       "      <td>3</td>\n",
       "    </tr>\n",
       "    <tr>\n",
       "      <th>3</th>\n",
       "      <td>A. Morin</td>\n",
       "      <td>2015</td>\n",
       "      <td>70%</td>\n",
       "      <td>France</td>\n",
       "      <td>3.5</td>\n",
       "    </tr>\n",
       "    <tr>\n",
       "      <th>4</th>\n",
       "      <td>A. Morin</td>\n",
       "      <td>2015</td>\n",
       "      <td>70%</td>\n",
       "      <td>France</td>\n",
       "      <td>3.5</td>\n",
       "    </tr>\n",
       "  </tbody>\n",
       "</table>\n",
       "</div>"
      ],
      "text/plain": [
       "  Companies ReviewDate CocoaPercent CompanyLocation Rating\n",
       "0  A. Morin       2016          63%          France   3.75\n",
       "1  A. Morin       2015          70%          France   2.75\n",
       "2  A. Morin       2015          70%          France      3\n",
       "3  A. Morin       2015          70%          France    3.5\n",
       "4  A. Morin       2015          70%          France    3.5"
      ]
     },
     "execution_count": 25,
     "metadata": {},
     "output_type": "execute_result"
    }
   ],
   "source": [
    "df.head()"
   ]
  },
  {
   "cell_type": "markdown",
   "id": "11173127",
   "metadata": {},
   "source": [
    "### 2. Data Analysis"
   ]
  },
  {
   "cell_type": "code",
   "execution_count": 26,
   "id": "81dfa8e5",
   "metadata": {},
   "outputs": [
    {
     "name": "stdout",
     "output_type": "stream",
     "text": [
      "<class 'pandas.core.frame.DataFrame'>\n",
      "RangeIndex: 1795 entries, 0 to 1794\n",
      "Data columns (total 5 columns):\n",
      " #   Column           Non-Null Count  Dtype \n",
      "---  ------           --------------  ----- \n",
      " 0   Companies        1795 non-null   object\n",
      " 1   ReviewDate       1795 non-null   object\n",
      " 2   CocoaPercent     1795 non-null   object\n",
      " 3   CompanyLocation  1795 non-null   object\n",
      " 4   Rating           1795 non-null   object\n",
      "dtypes: object(5)\n",
      "memory usage: 70.2+ KB\n"
     ]
    }
   ],
   "source": [
    "df.info()"
   ]
  },
  {
   "cell_type": "code",
   "execution_count": 28,
   "id": "de1a4e49",
   "metadata": {},
   "outputs": [],
   "source": [
    "df[\"ReviewDate\"] = df[\"ReviewDate\"].astype(\"int\")"
   ]
  },
  {
   "cell_type": "code",
   "execution_count": 33,
   "id": "046495b3",
   "metadata": {},
   "outputs": [],
   "source": [
    "df[\"CocoaPercent\"] = df[\"CocoaPercent\"].astype(\"str\").str.rstrip(\"%\").astype(\"float\")"
   ]
  },
  {
   "cell_type": "code",
   "execution_count": 34,
   "id": "a0ab1571",
   "metadata": {},
   "outputs": [],
   "source": [
    "df[\"Rating\"] = df[\"Rating\"].astype(\"float\")"
   ]
  },
  {
   "cell_type": "code",
   "execution_count": 35,
   "id": "73ec9eb7",
   "metadata": {},
   "outputs": [
    {
     "data": {
      "text/plain": [
       "Companies           object\n",
       "ReviewDate           int32\n",
       "CocoaPercent       float64\n",
       "CompanyLocation     object\n",
       "Rating             float64\n",
       "dtype: object"
      ]
     },
     "execution_count": 35,
     "metadata": {},
     "output_type": "execute_result"
    }
   ],
   "source": [
    "df.dtypes"
   ]
  },
  {
   "cell_type": "code",
   "execution_count": 36,
   "id": "ede6676e",
   "metadata": {},
   "outputs": [
    {
     "data": {
      "text/html": [
       "<div>\n",
       "<style scoped>\n",
       "    .dataframe tbody tr th:only-of-type {\n",
       "        vertical-align: middle;\n",
       "    }\n",
       "\n",
       "    .dataframe tbody tr th {\n",
       "        vertical-align: top;\n",
       "    }\n",
       "\n",
       "    .dataframe thead th {\n",
       "        text-align: right;\n",
       "    }\n",
       "</style>\n",
       "<table border=\"1\" class=\"dataframe\">\n",
       "  <thead>\n",
       "    <tr style=\"text-align: right;\">\n",
       "      <th></th>\n",
       "      <th>Companies</th>\n",
       "      <th>ReviewDate</th>\n",
       "      <th>CocoaPercent</th>\n",
       "      <th>CompanyLocation</th>\n",
       "      <th>Rating</th>\n",
       "    </tr>\n",
       "  </thead>\n",
       "  <tbody>\n",
       "    <tr>\n",
       "      <th>0</th>\n",
       "      <td>A. Morin</td>\n",
       "      <td>2016</td>\n",
       "      <td>63.0</td>\n",
       "      <td>France</td>\n",
       "      <td>3.75</td>\n",
       "    </tr>\n",
       "    <tr>\n",
       "      <th>1</th>\n",
       "      <td>A. Morin</td>\n",
       "      <td>2015</td>\n",
       "      <td>70.0</td>\n",
       "      <td>France</td>\n",
       "      <td>2.75</td>\n",
       "    </tr>\n",
       "    <tr>\n",
       "      <th>2</th>\n",
       "      <td>A. Morin</td>\n",
       "      <td>2015</td>\n",
       "      <td>70.0</td>\n",
       "      <td>France</td>\n",
       "      <td>3.00</td>\n",
       "    </tr>\n",
       "    <tr>\n",
       "      <th>3</th>\n",
       "      <td>A. Morin</td>\n",
       "      <td>2015</td>\n",
       "      <td>70.0</td>\n",
       "      <td>France</td>\n",
       "      <td>3.50</td>\n",
       "    </tr>\n",
       "    <tr>\n",
       "      <th>4</th>\n",
       "      <td>A. Morin</td>\n",
       "      <td>2015</td>\n",
       "      <td>70.0</td>\n",
       "      <td>France</td>\n",
       "      <td>3.50</td>\n",
       "    </tr>\n",
       "  </tbody>\n",
       "</table>\n",
       "</div>"
      ],
      "text/plain": [
       "  Companies  ReviewDate  CocoaPercent CompanyLocation  Rating\n",
       "0  A. Morin        2016          63.0          France    3.75\n",
       "1  A. Morin        2015          70.0          France    2.75\n",
       "2  A. Morin        2015          70.0          France    3.00\n",
       "3  A. Morin        2015          70.0          France    3.50\n",
       "4  A. Morin        2015          70.0          France    3.50"
      ]
     },
     "execution_count": 36,
     "metadata": {},
     "output_type": "execute_result"
    }
   ],
   "source": [
    "df.head()"
   ]
  },
  {
   "cell_type": "markdown",
   "id": "832b216f",
   "metadata": {},
   "source": [
    "#### En çok  oylanan 3 şirket ve Oy sayıları"
   ]
  },
  {
   "cell_type": "code",
   "execution_count": 329,
   "id": "0eedbe7b",
   "metadata": {},
   "outputs": [],
   "source": [
    "ReviewCount = df[[\"Companies\"]].value_counts()[:3].to_frame(name=\"Count\").reset_index()"
   ]
  },
  {
   "cell_type": "code",
   "execution_count": 330,
   "id": "43fe11d1",
   "metadata": {},
   "outputs": [
    {
     "data": {
      "text/html": [
       "<div>\n",
       "<style scoped>\n",
       "    .dataframe tbody tr th:only-of-type {\n",
       "        vertical-align: middle;\n",
       "    }\n",
       "\n",
       "    .dataframe tbody tr th {\n",
       "        vertical-align: top;\n",
       "    }\n",
       "\n",
       "    .dataframe thead th {\n",
       "        text-align: right;\n",
       "    }\n",
       "</style>\n",
       "<table border=\"1\" class=\"dataframe\">\n",
       "  <thead>\n",
       "    <tr style=\"text-align: right;\">\n",
       "      <th></th>\n",
       "      <th>Companies</th>\n",
       "      <th>Count</th>\n",
       "    </tr>\n",
       "  </thead>\n",
       "  <tbody>\n",
       "    <tr>\n",
       "      <th>0</th>\n",
       "      <td>Soma</td>\n",
       "      <td>47</td>\n",
       "    </tr>\n",
       "    <tr>\n",
       "      <th>1</th>\n",
       "      <td>Bonnat</td>\n",
       "      <td>27</td>\n",
       "    </tr>\n",
       "    <tr>\n",
       "      <th>2</th>\n",
       "      <td>Fresco</td>\n",
       "      <td>26</td>\n",
       "    </tr>\n",
       "  </tbody>\n",
       "</table>\n",
       "</div>"
      ],
      "text/plain": [
       "  Companies  Count\n",
       "0      Soma     47\n",
       "1    Bonnat     27\n",
       "2    Fresco     26"
      ]
     },
     "execution_count": 330,
     "metadata": {},
     "output_type": "execute_result"
    }
   ],
   "source": [
    "ReviewCount"
   ]
  },
  {
   "cell_type": "code",
   "execution_count": 347,
   "id": "f970f988",
   "metadata": {},
   "outputs": [
    {
     "data": {
      "image/png": "[encoded data removed]",
      "text/plain": [
       "<Figure size 432x288 with 1 Axes>"
      ]
     },
     "metadata": {
      "needs_background": "light"
     },
     "output_type": "display_data"
    }
   ],
   "source": [
    "ax = sns.barplot(data=ReviewCount, x=\"Companies\", y=\"Count\")\n",
    "for container in ax.containers:\n",
    "    ax.bar_label(container)\n",
    "plt.title(\"3 Companies with The Most Votes and Their Number of Votes\");"
   ]
  },
  {
   "cell_type": "markdown",
   "id": "eb45d229",
   "metadata": {},
   "source": [
    "##### En çok oylanan 3 şirketin review ortalamaları"
   ]
  },
  {
   "cell_type": "code",
   "execution_count": 306,
   "id": "68c2c240",
   "metadata": {},
   "outputs": [
    {
     "data": {
      "text/plain": [
       "Index(['Soma', 'Bonnat', 'Fresco'], dtype='object')"
      ]
     },
     "execution_count": 306,
     "metadata": {},
     "output_type": "execute_result"
    }
   ],
   "source": [
    "df[\"Companies\"].value_counts()[:3].index"
   ]
  },
  {
   "cell_type": "code",
   "execution_count": 324,
   "id": "d013642b",
   "metadata": {},
   "outputs": [],
   "source": [
    "Top3ReviewCount = df[df[\"Companies\"].isin(df[\"Companies\"].value_counts()[:3].index)]"
   ]
  },
  {
   "cell_type": "code",
   "execution_count": 327,
   "id": "07201056",
   "metadata": {},
   "outputs": [],
   "source": [
    "Ratings = Top3ReviewCount.groupby(\"Companies\")[[\"Rating\"]].mean().reset_index().sort_values(by=\"Rating\", ascending=False)"
   ]
  },
  {
   "cell_type": "code",
   "execution_count": 328,
   "id": "6349a8b3",
   "metadata": {},
   "outputs": [
    {
     "data": {
      "text/html": [
       "<div>\n",
       "<style scoped>\n",
       "    .dataframe tbody tr th:only-of-type {\n",
       "        vertical-align: middle;\n",
       "    }\n",
       "\n",
       "    .dataframe tbody tr th {\n",
       "        vertical-align: top;\n",
       "    }\n",
       "\n",
       "    .dataframe thead th {\n",
       "        text-align: right;\n",
       "    }\n",
       "</style>\n",
       "<table border=\"1\" class=\"dataframe\">\n",
       "  <thead>\n",
       "    <tr style=\"text-align: right;\">\n",
       "      <th></th>\n",
       "      <th>Companies</th>\n",
       "      <th>Rating</th>\n",
       "    </tr>\n",
       "  </thead>\n",
       "  <tbody>\n",
       "    <tr>\n",
       "      <th>2</th>\n",
       "      <td>Soma</td>\n",
       "      <td>3.585106</td>\n",
       "    </tr>\n",
       "    <tr>\n",
       "      <th>0</th>\n",
       "      <td>Bonnat</td>\n",
       "      <td>3.435185</td>\n",
       "    </tr>\n",
       "    <tr>\n",
       "      <th>1</th>\n",
       "      <td>Fresco</td>\n",
       "      <td>3.384615</td>\n",
       "    </tr>\n",
       "  </tbody>\n",
       "</table>\n",
       "</div>"
      ],
      "text/plain": [
       "  Companies    Rating\n",
       "2      Soma  3.585106\n",
       "0    Bonnat  3.435185\n",
       "1    Fresco  3.384615"
      ]
     },
     "execution_count": 328,
     "metadata": {},
     "output_type": "execute_result"
    }
   ],
   "source": [
    "Ratings"
   ]
  },
  {
   "cell_type": "code",
   "execution_count": 349,
   "id": "27e35a31",
   "metadata": {},
   "outputs": [
    {
     "data": {
      "image/png": "[encoded data removed]",
      "text/plain": [
       "<Figure size 432x288 with 1 Axes>"
      ]
     },
     "metadata": {
      "needs_background": "light"
     },
     "output_type": "display_data"
    }
   ],
   "source": [
    "ax = sns.barplot(data=Ratings, x=\"Companies\", y=\"Rating\")\n",
    "for container in ax.containers:\n",
    "    ax.bar_label(container, fmt=\"%.2f\")\n",
    "plt.title(\"3 Most Rated Companies and Their Review Averages\");"
   ]
  },
  {
   "cell_type": "markdown",
   "id": "ff9a4e40",
   "metadata": {},
   "source": [
    "##### bu 3 şirketin yıllara sari review ortalama değşimi"
   ]
  },
  {
   "cell_type": "code",
   "execution_count": 325,
   "id": "c713cc37",
   "metadata": {},
   "outputs": [],
   "source": [
    "df3 = Top3ReviewCount.groupby([\"Companies\", \"ReviewDate\"])[\"Rating\"].mean().to_frame().reset_index()"
   ]
  },
  {
   "cell_type": "code",
   "execution_count": 326,
   "id": "02ee6429",
   "metadata": {},
   "outputs": [
    {
     "data": {
      "text/html": [
       "<div>\n",
       "<style scoped>\n",
       "    .dataframe tbody tr th:only-of-type {\n",
       "        vertical-align: middle;\n",
       "    }\n",
       "\n",
       "    .dataframe tbody tr th {\n",
       "        vertical-align: top;\n",
       "    }\n",
       "\n",
       "    .dataframe thead th {\n",
       "        text-align: right;\n",
       "    }\n",
       "</style>\n",
       "<table border=\"1\" class=\"dataframe\">\n",
       "  <thead>\n",
       "    <tr style=\"text-align: right;\">\n",
       "      <th></th>\n",
       "      <th>Companies</th>\n",
       "      <th>ReviewDate</th>\n",
       "      <th>Rating</th>\n",
       "    </tr>\n",
       "  </thead>\n",
       "  <tbody>\n",
       "    <tr>\n",
       "      <th>0</th>\n",
       "      <td>Bonnat</td>\n",
       "      <td>2006</td>\n",
       "      <td>3.464286</td>\n",
       "    </tr>\n",
       "    <tr>\n",
       "      <th>1</th>\n",
       "      <td>Bonnat</td>\n",
       "      <td>2007</td>\n",
       "      <td>2.500000</td>\n",
       "    </tr>\n",
       "    <tr>\n",
       "      <th>2</th>\n",
       "      <td>Bonnat</td>\n",
       "      <td>2008</td>\n",
       "      <td>4.000000</td>\n",
       "    </tr>\n",
       "    <tr>\n",
       "      <th>3</th>\n",
       "      <td>Bonnat</td>\n",
       "      <td>2009</td>\n",
       "      <td>2.937500</td>\n",
       "    </tr>\n",
       "    <tr>\n",
       "      <th>4</th>\n",
       "      <td>Bonnat</td>\n",
       "      <td>2011</td>\n",
       "      <td>3.625000</td>\n",
       "    </tr>\n",
       "  </tbody>\n",
       "</table>\n",
       "</div>"
      ],
      "text/plain": [
       "  Companies  ReviewDate    Rating\n",
       "0    Bonnat        2006  3.464286\n",
       "1    Bonnat        2007  2.500000\n",
       "2    Bonnat        2008  4.000000\n",
       "3    Bonnat        2009  2.937500\n",
       "4    Bonnat        2011  3.625000"
      ]
     },
     "execution_count": 326,
     "metadata": {},
     "output_type": "execute_result"
    }
   ],
   "source": [
    "df3.head()"
   ]
  },
  {
   "cell_type": "code",
   "execution_count": 358,
   "id": "6749d536",
   "metadata": {},
   "outputs": [
    {
     "data": {
      "image/png": "[encoded data removed]",
      "text/plain": [
       "<Figure size 576x360 with 1 Axes>"
      ]
     },
     "metadata": {
      "needs_background": "light"
     },
     "output_type": "display_data"
    }
   ],
   "source": [
    "plt.figure(figsize=(8,5))\n",
    "sns.lineplot(data=df3, x=\"ReviewDate\", y=\"Rating\", hue=\"Companies\")\n",
    "plt.title(\"Change of Review Averages by Years\")\n",
    "plt.legend(loc=4);"
   ]
  },
  {
   "cell_type": "markdown",
   "id": "b0c4a012",
   "metadata": {},
   "source": [
    "##### Is more cacao better?"
   ]
  },
  {
   "cell_type": "code",
   "execution_count": 334,
   "id": "ca7f3e81",
   "metadata": {},
   "outputs": [
    {
     "data": {
      "text/plain": [
       "-0.16482017762424417"
      ]
     },
     "execution_count": 334,
     "metadata": {},
     "output_type": "execute_result"
    }
   ],
   "source": [
    "df[\"Rating\"].corr(df[\"CocoaPercent\"])\n",
    "# There is no correlation."
   ]
  },
  {
   "cell_type": "code",
   "execution_count": 353,
   "id": "f46e8811",
   "metadata": {},
   "outputs": [
    {
     "data": {
      "image/png": "[encoded data removed]",
      "text/plain": [
       "<Figure size 576x360 with 1 Axes>"
      ]
     },
     "metadata": {
      "needs_background": "light"
     },
     "output_type": "display_data"
    }
   ],
   "source": [
    "plt.figure(figsize=(8,5))\n",
    "sns.scatterplot(data=df, y=\"Rating\", x=\"CocoaPercent\")\n",
    "plt.title(\"Cocoa Percentages and Review Relationship\");"
   ]
  },
  {
   "cell_type": "code",
   "execution_count": null,
   "id": "4bf39dfc",
   "metadata": {},
   "outputs": [],
   "source": []
  },
  {
   "cell_type": "code",
   "execution_count": null,
   "id": "3674d850",
   "metadata": {},
   "outputs": [],
   "source": []
  },
  {
   "cell_type": "code",
   "execution_count": null,
   "id": "84854e94",
   "metadata": {},
   "outputs": [],
   "source": []
  },
  {
   "cell_type": "code",
   "execution_count": null,
   "id": "dc382d46",
   "metadata": {},
   "outputs": [],
   "source": []
  }
 ],
 "metadata": {
  "kernelspec": {
   "display_name": "Python 3 (ipykernel)",
   "language": "python",
   "name": "python3"
  },
  "language_info": {
   "codemirror_mode": {
    "name": "ipython",
    "version": 3
   },
   "file_extension": ".py",
   "mimetype": "text/x-python",
   "name": "python",
   "nbconvert_exporter": "python",
   "pygments_lexer": "ipython3",
   "version": "3.9.12"
  }
 },
 "nbformat": 4,
 "nbformat_minor": 5
}
