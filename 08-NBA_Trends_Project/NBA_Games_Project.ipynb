{
 "cells": [
  {
   "cell_type": "markdown",
   "id": "8ec0ce41",
   "metadata": {},
   "source": [
    "## <center> NBA Games Project"
   ]
  },
  {
   "cell_type": "markdown",
   "id": "17f71f05",
   "metadata": {},
   "source": [
    "## About Data\n",
    "In this project, you’ll analyze data from the NBA (National Basketball Association) and explore possible associations.\n",
    "\n",
    "This data was originally sourced from 538’s Analysis of the Complete History Of The NBA and contains the original, unmodified data from Basketball Reference as well as several additional variables 538 added to perform their own analysis.\n",
    "\n",
    "You can read more about the data and how it’s being used by 538 [here.](https://github.com/fivethirtyeight/data/tree/master/nba-elo)\n",
    "\n",
    "\n",
    "\n",
    "- **game_id:**\tUnique ID for each game\n",
    "- **Season id:** named based on year in which the season ended\n",
    "- **Franchise id:** Multiple team_ids can fall under the same fran_id due to name changes or moves. Interactive is grouped by fran_id.\n",
    "- **opp_fran:** Franchise id of opponent\n",
    "- **game_location:** Home (H), away (A), or neutral (N)\n",
    "- **is_playoffs:** Flag for playoff games\n",
    "- **pts:** Points scored by team\n",
    "- **opp_pts:**\tPoints scored by opponent\n",
    "- **game_result:**\tWin or loss for team\n",
    "- **forecast:**\tElo-based chances of winning for the team, based on elo ratings and game location\n",
    "- **point_diff:** the difference between pts and opp_pts"
   ]
  },
  {
   "cell_type": "code",
   "execution_count": 1,
   "id": "128bd812",
   "metadata": {},
   "outputs": [],
   "source": [
    "import pandas as pd\n",
    "import numpy as np\n",
    "import matplotlib.pyplot as plt\n",
    "import seaborn as sns\n",
    "from scipy import stats"
   ]
  },
  {
   "cell_type": "markdown",
   "id": "9c284dcb",
   "metadata": {},
   "source": [
    "## Analyzing relationships between Quant and Categorical"
   ]
  },
  {
   "cell_type": "markdown",
   "id": "f35823c5",
   "metadata": {},
   "source": [
    "##### Exercise 1\n",
    "Load the dataset and print the first five rows of this dataframe using the ``.head()``. <br>"
   ]
  },
  {
   "cell_type": "code",
   "execution_count": 2,
   "id": "4c24b35f",
   "metadata": {},
   "outputs": [
    {
     "data": {
      "text/html": [
       "<div>\n",
       "<style scoped>\n",
       "    .dataframe tbody tr th:only-of-type {\n",
       "        vertical-align: middle;\n",
       "    }\n",
       "\n",
       "    .dataframe tbody tr th {\n",
       "        vertical-align: top;\n",
       "    }\n",
       "\n",
       "    .dataframe thead th {\n",
       "        text-align: right;\n",
       "    }\n",
       "</style>\n",
       "<table border=\"1\" class=\"dataframe\">\n",
       "  <thead>\n",
       "    <tr style=\"text-align: right;\">\n",
       "      <th></th>\n",
       "      <th>game_id</th>\n",
       "      <th>year_id</th>\n",
       "      <th>fran_id</th>\n",
       "      <th>opp_fran</th>\n",
       "      <th>game_location</th>\n",
       "      <th>is_playoffs</th>\n",
       "      <th>pts</th>\n",
       "      <th>opp_pts</th>\n",
       "      <th>game_result</th>\n",
       "      <th>forecast</th>\n",
       "      <th>point_diff</th>\n",
       "    </tr>\n",
       "  </thead>\n",
       "  <tbody>\n",
       "    <tr>\n",
       "      <th>0</th>\n",
       "      <td>194611010TRH</td>\n",
       "      <td>1947</td>\n",
       "      <td>Knicks</td>\n",
       "      <td>Huskies</td>\n",
       "      <td>A</td>\n",
       "      <td>0</td>\n",
       "      <td>68</td>\n",
       "      <td>66</td>\n",
       "      <td>W</td>\n",
       "      <td>0.359935</td>\n",
       "      <td>2</td>\n",
       "    </tr>\n",
       "    <tr>\n",
       "      <th>1</th>\n",
       "      <td>194611020CHS</td>\n",
       "      <td>1947</td>\n",
       "      <td>Knicks</td>\n",
       "      <td>Stags</td>\n",
       "      <td>A</td>\n",
       "      <td>0</td>\n",
       "      <td>47</td>\n",
       "      <td>63</td>\n",
       "      <td>L</td>\n",
       "      <td>0.368899</td>\n",
       "      <td>-16</td>\n",
       "    </tr>\n",
       "    <tr>\n",
       "      <th>2</th>\n",
       "      <td>194611020PRO</td>\n",
       "      <td>1947</td>\n",
       "      <td>Celtics</td>\n",
       "      <td>Steamrollers</td>\n",
       "      <td>A</td>\n",
       "      <td>0</td>\n",
       "      <td>53</td>\n",
       "      <td>59</td>\n",
       "      <td>L</td>\n",
       "      <td>0.359935</td>\n",
       "      <td>-6</td>\n",
       "    </tr>\n",
       "    <tr>\n",
       "      <th>3</th>\n",
       "      <td>194611050BOS</td>\n",
       "      <td>1947</td>\n",
       "      <td>Celtics</td>\n",
       "      <td>Stags</td>\n",
       "      <td>H</td>\n",
       "      <td>0</td>\n",
       "      <td>55</td>\n",
       "      <td>57</td>\n",
       "      <td>L</td>\n",
       "      <td>0.620204</td>\n",
       "      <td>-2</td>\n",
       "    </tr>\n",
       "    <tr>\n",
       "      <th>4</th>\n",
       "      <td>194611070STB</td>\n",
       "      <td>1947</td>\n",
       "      <td>Knicks</td>\n",
       "      <td>Bombers</td>\n",
       "      <td>A</td>\n",
       "      <td>0</td>\n",
       "      <td>68</td>\n",
       "      <td>63</td>\n",
       "      <td>W</td>\n",
       "      <td>0.339290</td>\n",
       "      <td>5</td>\n",
       "    </tr>\n",
       "  </tbody>\n",
       "</table>\n",
       "</div>"
      ],
      "text/plain": [
       "        game_id  year_id  fran_id      opp_fran game_location  is_playoffs  \\\n",
       "0  194611010TRH     1947   Knicks       Huskies             A            0   \n",
       "1  194611020CHS     1947   Knicks         Stags             A            0   \n",
       "2  194611020PRO     1947  Celtics  Steamrollers             A            0   \n",
       "3  194611050BOS     1947  Celtics         Stags             H            0   \n",
       "4  194611070STB     1947   Knicks       Bombers             A            0   \n",
       "\n",
       "   pts  opp_pts game_result  forecast  point_diff  \n",
       "0   68       66           W  0.359935           2  \n",
       "1   47       63           L  0.368899         -16  \n",
       "2   53       59           L  0.359935          -6  \n",
       "3   55       57           L  0.620204          -2  \n",
       "4   68       63           W  0.339290           5  "
      ]
     },
     "execution_count": 2,
     "metadata": {},
     "output_type": "execute_result"
    }
   ],
   "source": [
    "nba = pd.read_csv(\"nba_games.csv\")\n",
    "nba.head()"
   ]
  },
  {
   "cell_type": "markdown",
   "id": "83534b6c",
   "metadata": {},
   "source": [
    "##### Exercise 2\n",
    "Divide the data into two, 2010 and 2014."
   ]
  },
  {
   "cell_type": "code",
   "execution_count": 4,
   "id": "8e4bdb9b",
   "metadata": {},
   "outputs": [],
   "source": [
    "nba_2010 = nba[nba[\"year_id\"] == 2010]\n",
    "nba_2014 = nba[nba[\"year_id\"] == 2014]"
   ]
  },
  {
   "cell_type": "markdown",
   "id": "18a8b148",
   "metadata": {},
   "source": [
    "##### Exercise 3\n",
    "Suppose you want to compare the knicks to the nets with respect to points earned per game. <br>\n",
    "Using the `pts` column from the `nba_2010` DataFrame, create two series named `knicks_pts`(`fran_id = \"Knicks\"`) and <br>`nets_pts`(`fran_id = \"Nets\"`) that represent the points each team has scored in their games."
   ]
  },
  {
   "cell_type": "code",
   "execution_count": 10,
   "id": "4978e5a2",
   "metadata": {},
   "outputs": [],
   "source": [
    "knicks_pts = nba_2010[nba_2010[\"fran_id\"] == \"Knicks\"][\"pts\"]\n",
    "nets_pts = nba_2010[nba_2010[\"fran_id\"] == \"Nets\"][\"pts\"]"
   ]
  },
  {
   "cell_type": "markdown",
   "id": "283f23e8",
   "metadata": {},
   "source": [
    "##### Exercise 4\n",
    "\n",
    "Rather than comparing means, it’s useful look at the full distribution of values to understand whether a difference in means is meaningful.<br>\n",
    "Create a set of overlapping histograms that can be used to compare the points scored for the Knicks compared to the Nets.<br>\n",
    "Use the series you created in the previous exercise and the code below to create the plot.<br>\n",
    "Do the distributions appear to be the same?"
   ]
  },
  {
   "cell_type": "code",
   "execution_count": 55,
   "id": "50dcc33c",
   "metadata": {},
   "outputs": [
    {
     "data": {
      "image/png": "[encoded data removed]",
      "text/plain": [
       "<Figure size 432x288 with 1 Axes>"
      ]
     },
     "metadata": {
      "needs_background": "light"
     },
     "output_type": "display_data"
    }
   ],
   "source": [
    "plt.hist(knicks_pts, color=\"green\", density=True, alpha=0.5)\n",
    "plt.hist(nets_pts,color=\"red\", density=True, alpha=0.5)\n",
    "plt.show()\n",
    "plt.close()\n",
    "# I think distributions don't appear to be the same. But there is some similarity..."
   ]
  },
  {
   "cell_type": "markdown",
   "id": "b3bd65db",
   "metadata": {},
   "source": [
    "##### Exercise 5\n",
    "Now, let’s compare the 2010 games to 2014. Replicate the steps from the previous three exercises using `nba_2014`. <br>\n",
    "First, calculate the mean difference between the two teams points scored. Save and print the value as `diff_means_2014`.<br> \n",
    "Did the difference in points get larger or smaller in 2014? Then, plot the overlapping histograms. <br>\n",
    "Does the mean difference you calculated make sense?"
   ]
  },
  {
   "cell_type": "code",
   "execution_count": 20,
   "id": "1c7f6f4f",
   "metadata": {},
   "outputs": [],
   "source": [
    "knicks_pts = nba_2014[nba_2014[\"fran_id\"] == \"Knicks\"][\"pts\"]\n",
    "nets_pts = nba_2014[nba_2014[\"fran_id\"] == \"Nets\"][\"pts\"]"
   ]
  },
  {
   "cell_type": "code",
   "execution_count": 21,
   "id": "027a9ff6",
   "metadata": {},
   "outputs": [
    {
     "data": {
      "text/plain": [
       "0.44706798131809933"
      ]
     },
     "execution_count": 21,
     "metadata": {},
     "output_type": "execute_result"
    }
   ],
   "source": [
    "diff_means_2014 = knicks_pts.mean() - nets_pts.mean()\n",
    "diff_means_2014"
   ]
  },
  {
   "cell_type": "code",
   "execution_count": 24,
   "id": "ad433971",
   "metadata": {},
   "outputs": [],
   "source": [
    "# The mean difference does not make sense. The difference between them is very small."
   ]
  },
  {
   "cell_type": "markdown",
   "id": "a881edf9",
   "metadata": {},
   "source": [
    "##### Exercise 6\n",
    "\n",
    "For the remainder of this project, we’ll focus on data from 2010.<br>\n",
    "Let’s now include all teams in the dataset and investigate the relationship between franchise and points scored per game.<br>\n",
    "\n",
    "Using `nba_2010`, generate side-by-side boxplots with points scored (`pts`) on the y-axis and team (`fran_id`) on the x-axis. <br>\n",
    "Is there any overlap between the boxes? Does this chart suggest that `fran_id` and `pts` are associated? <br>\n",
    "Which pairs of teams, if any, earn different average scores per game?<br>"
   ]
  },
  {
   "cell_type": "code",
   "execution_count": 27,
   "id": "6e496264",
   "metadata": {
    "scrolled": true
   },
   "outputs": [
    {
     "data": {
      "image/png": "[encoded data removed]",
      "text/plain": [
       "<Figure size 576x360 with 1 Axes>"
      ]
     },
     "metadata": {
      "needs_background": "light"
     },
     "output_type": "display_data"
    }
   ],
   "source": [
    "plt.figure(figsize=(8, 5))\n",
    "sns.boxplot(data=nba, x=\"fran_id\", y=\"pts\");"
   ]
  },
  {
   "cell_type": "code",
   "execution_count": 28,
   "id": "6d0f4388",
   "metadata": {},
   "outputs": [],
   "source": [
    "# There is no discernible average score difference between the teams. \n",
    "# The average scores of all teams are close to each other and around 100."
   ]
  },
  {
   "cell_type": "markdown",
   "id": "52b3519a",
   "metadata": {},
   "source": [
    "## Analyzing relationships between Categorical variables"
   ]
  },
  {
   "cell_type": "markdown",
   "id": "e694e83c",
   "metadata": {},
   "source": [
    "##### Exercise 7\n",
    "Do teams tend to win more games at home compared to away?\n",
    "\n",
    "Data scientists will often calculate a contingency table of frequencies to help them determine if categorical variables are associated.<br>\n",
    "Calculate a table of frequencies that shows the counts of `game_result` and `game_location`.\n",
    "\n",
    "Save your result as `location_result_freq` and print your result. Based on this table, do you think the variables are associated?"
   ]
  },
  {
   "cell_type": "code",
   "execution_count": 29,
   "id": "dc595da9",
   "metadata": {},
   "outputs": [
    {
     "data": {
      "text/html": [
       "<div>\n",
       "<style scoped>\n",
       "    .dataframe tbody tr th:only-of-type {\n",
       "        vertical-align: middle;\n",
       "    }\n",
       "\n",
       "    .dataframe tbody tr th {\n",
       "        vertical-align: top;\n",
       "    }\n",
       "\n",
       "    .dataframe thead th {\n",
       "        text-align: right;\n",
       "    }\n",
       "</style>\n",
       "<table border=\"1\" class=\"dataframe\">\n",
       "  <thead>\n",
       "    <tr style=\"text-align: right;\">\n",
       "      <th>game_location</th>\n",
       "      <th>A</th>\n",
       "      <th>H</th>\n",
       "      <th>N</th>\n",
       "    </tr>\n",
       "    <tr>\n",
       "      <th>game_result</th>\n",
       "      <th></th>\n",
       "      <th></th>\n",
       "      <th></th>\n",
       "    </tr>\n",
       "  </thead>\n",
       "  <tbody>\n",
       "    <tr>\n",
       "      <th>L</th>\n",
       "      <td>7105</td>\n",
       "      <td>4298</td>\n",
       "      <td>3</td>\n",
       "    </tr>\n",
       "    <tr>\n",
       "      <th>W</th>\n",
       "      <td>5003</td>\n",
       "      <td>7942</td>\n",
       "      <td>8</td>\n",
       "    </tr>\n",
       "  </tbody>\n",
       "</table>\n",
       "</div>"
      ],
      "text/plain": [
       "game_location     A     H  N\n",
       "game_result                 \n",
       "L              7105  4298  3\n",
       "W              5003  7942  8"
      ]
     },
     "execution_count": 29,
     "metadata": {},
     "output_type": "execute_result"
    }
   ],
   "source": [
    "location_result_freq = pd.crosstab(nba[\"game_result\"], nba[\"game_location\"])\n",
    "location_result_freq"
   ]
  },
  {
   "cell_type": "code",
   "execution_count": 30,
   "id": "525d211c",
   "metadata": {},
   "outputs": [],
   "source": [
    "# I think the variables are associated. Because teams lost less and won more at home."
   ]
  },
  {
   "cell_type": "markdown",
   "id": "030d31e5",
   "metadata": {},
   "source": [
    "##### Exercise 8\n",
    "Convert this table of frequencies to a table of proportions and save the result as `location_result_proportions`. Print your result."
   ]
  },
  {
   "cell_type": "code",
   "execution_count": 31,
   "id": "e7e62b41",
   "metadata": {},
   "outputs": [
    {
     "data": {
      "text/html": [
       "<div>\n",
       "<style scoped>\n",
       "    .dataframe tbody tr th:only-of-type {\n",
       "        vertical-align: middle;\n",
       "    }\n",
       "\n",
       "    .dataframe tbody tr th {\n",
       "        vertical-align: top;\n",
       "    }\n",
       "\n",
       "    .dataframe thead th {\n",
       "        text-align: right;\n",
       "    }\n",
       "</style>\n",
       "<table border=\"1\" class=\"dataframe\">\n",
       "  <thead>\n",
       "    <tr style=\"text-align: right;\">\n",
       "      <th>game_location</th>\n",
       "      <th>A</th>\n",
       "      <th>H</th>\n",
       "      <th>N</th>\n",
       "    </tr>\n",
       "    <tr>\n",
       "      <th>game_result</th>\n",
       "      <th></th>\n",
       "      <th></th>\n",
       "      <th></th>\n",
       "    </tr>\n",
       "  </thead>\n",
       "  <tbody>\n",
       "    <tr>\n",
       "      <th>L</th>\n",
       "      <td>0.291679</td>\n",
       "      <td>0.176444</td>\n",
       "      <td>0.000123</td>\n",
       "    </tr>\n",
       "    <tr>\n",
       "      <th>W</th>\n",
       "      <td>0.205386</td>\n",
       "      <td>0.326040</td>\n",
       "      <td>0.000328</td>\n",
       "    </tr>\n",
       "  </tbody>\n",
       "</table>\n",
       "</div>"
      ],
      "text/plain": [
       "game_location         A         H         N\n",
       "game_result                                \n",
       "L              0.291679  0.176444  0.000123\n",
       "W              0.205386  0.326040  0.000328"
      ]
     },
     "execution_count": 31,
     "metadata": {},
     "output_type": "execute_result"
    }
   ],
   "source": [
    "location_result_proportions = location_result_freq / len(nba)\n",
    "location_result_proportions"
   ]
  },
  {
   "cell_type": "markdown",
   "id": "76014423",
   "metadata": {},
   "source": [
    "##### Exercise 9\n",
    "Using the contingency table created in the previous exercise (Ex. 7), calculate the expected contingency table (if there were no association) and the Chi-Square statistic and print your results.<br>\n",
    "Does the actual contingency table look similar to the expected table — or different? <br>\n",
    "Based on this output, do you think there is an association between these variables?"
   ]
  },
  {
   "cell_type": "code",
   "execution_count": 32,
   "id": "cc3ba4e0",
   "metadata": {},
   "outputs": [],
   "source": [
    "chi2, pval, dof, expected = stats.chi2_contingency(location_result_freq)"
   ]
  },
  {
   "cell_type": "code",
   "execution_count": 33,
   "id": "c34e9b4d",
   "metadata": {},
   "outputs": [
    {
     "data": {
      "text/plain": [
       "1359.2878749575696"
      ]
     },
     "execution_count": 33,
     "metadata": {},
     "output_type": "execute_result"
    }
   ],
   "source": [
    "chi2"
   ]
  },
  {
   "cell_type": "code",
   "execution_count": 34,
   "id": "7e672d8d",
   "metadata": {},
   "outputs": [],
   "source": [
    "# The result is very high. I think there is an association between these variables."
   ]
  },
  {
   "cell_type": "markdown",
   "id": "4dcb3335",
   "metadata": {},
   "source": [
    "## Analyzing Relationships Between Quantitative Variables"
   ]
  },
  {
   "cell_type": "markdown",
   "id": "7c4672eb",
   "metadata": {},
   "source": [
    "##### Exercise 10\n",
    "Did teams with a higher probability of winning (according to 538) also tend to win games by more points?<br>\n",
    "Using `nba_2010`, calculate the covariance between forecast (538’s projected win probability) and `point_diff` (the margin of victory/defeat) in the dataset. Save and print your result.<br>\n",
    "Looking at the matrix, what is the covariance between these two variables?"
   ]
  },
  {
   "cell_type": "code",
   "execution_count": 43,
   "id": "bb6b0bbb",
   "metadata": {},
   "outputs": [
    {
     "data": {
      "text/plain": [
       "1.3746125676458794"
      ]
     },
     "execution_count": 43,
     "metadata": {},
     "output_type": "execute_result"
    }
   ],
   "source": [
    "cov = np.cov(nba_2010[\"forecast\"], nba_2010[\"point_diff\"])[0,1]\n",
    "cov"
   ]
  },
  {
   "cell_type": "code",
   "execution_count": 44,
   "id": "ad1b2906",
   "metadata": {},
   "outputs": [
    {
     "name": "stdout",
     "output_type": "stream",
     "text": [
      "The covariance between these two varibles is 1.3746125676458794.\n"
     ]
    }
   ],
   "source": [
    "print(f\"The covariance between these two varibles is {cov}.\")"
   ]
  },
  {
   "cell_type": "markdown",
   "id": "47729b79",
   "metadata": {},
   "source": [
    "##### Exercise 11\n",
    "Using `nba_2010`, calculate the correlation between `forecast` and `point_diff`. Save and print your result. <br>\n",
    "Does this value suggest an association between the two variables?"
   ]
  },
  {
   "cell_type": "code",
   "execution_count": 51,
   "id": "0263b528",
   "metadata": {},
   "outputs": [
    {
     "name": "stdout",
     "output_type": "stream",
     "text": [
      "The correlation between these two variables is 0.46.\n",
      "Generally, a correlation larger than about .3 indicates a linear association.\n"
     ]
    }
   ],
   "source": [
    "corr, p = stats.pearsonr(nba[\"forecast\"], nba[\"point_diff\"])\n",
    "print(f\"\"\"The correlation between these two variables is {round(corr,2)}.\n",
    "Generally, a correlation larger than about .3 indicates a linear association.\"\"\")"
   ]
  },
  {
   "cell_type": "markdown",
   "id": "4eeb11b7",
   "metadata": {},
   "source": [
    "##### Exercise 12\n",
    "Generate a scatter plot of `forecast` (on the x-axis) and `point_diff` (on the y-axis). Does the correlation value make sense?"
   ]
  },
  {
   "cell_type": "code",
   "execution_count": 53,
   "id": "0384d1d1",
   "metadata": {},
   "outputs": [
    {
     "data": {
      "image/png": "[encoded data removed]",
      "text/plain": [
       "<Figure size 432x288 with 1 Axes>"
      ]
     },
     "metadata": {
      "needs_background": "light"
     },
     "output_type": "display_data"
    }
   ],
   "source": [
    "sns.scatterplot(data=nba, x=\"forecast\", y=\"point_diff\");"
   ]
  },
  {
   "cell_type": "code",
   "execution_count": 54,
   "id": "3b961b89",
   "metadata": {},
   "outputs": [],
   "source": [
    "# There seems to be little correlation."
   ]
  }
 ],
 "metadata": {
  "kernelspec": {
   "display_name": "Python 3 (ipykernel)",
   "language": "python",
   "name": "python3"
  },
  "language_info": {
   "codemirror_mode": {
    "name": "ipython",
    "version": 3
   },
   "file_extension": ".py",
   "mimetype": "text/x-python",
   "name": "python",
   "nbconvert_exporter": "python",
   "pygments_lexer": "ipython3",
   "version": "3.9.12"
  }
 },
 "nbformat": 4,
 "nbformat_minor": 5
}
